{
 "cells": [
  {
   "cell_type": "markdown",
   "id": "22415253-6a0a-4b75-a568-4ad8c6526bf0",
   "metadata": {},
   "source": [
    "# Sandbox: OpenAI's gpt \n",
    "\n",
    "## `gpt-4o`"
   ]
  },
  {
   "cell_type": "code",
   "execution_count": 1,
   "id": "4f0c2376-f975-4f4d-843c-ab4ce7a7c637",
   "metadata": {},
   "outputs": [],
   "source": [
    "import os\n",
    "\n",
    "OPENAI_API_KEY = os.environ[\"OPENAI_API_KEY\"]"
   ]
  },
  {
   "cell_type": "code",
   "execution_count": 2,
   "id": "3b70357f-22be-4117-97bb-8df472fbb0c7",
   "metadata": {},
   "outputs": [],
   "source": [
    "from openai import OpenAI\n",
    "\n",
    "client = OpenAI()\n",
    "\n",
    "model_name = \"gpt-4o\""
   ]
  },
  {
   "cell_type": "code",
   "execution_count": 3,
   "id": "63ddb647-8b2f-4508-be5f-d21a5c32c7e8",
   "metadata": {},
   "outputs": [],
   "source": [
    "import base64\n",
    "\n",
    "with open(\"samples/Press_release_car_registrations_February_2025.pdf\", \"rb\") as f:\n",
    "    raw_data = f.read()\n",
    "\n",
    "base64_data = base64.b64encode(raw_data).decode(\"utf-8\")"
   ]
  },
  {
   "cell_type": "code",
   "execution_count": 4,
   "id": "24238223-38d1-4fee-a6fe-2bb63719f402",
   "metadata": {},
   "outputs": [],
   "source": [
    "prompt=\"\"\"\n",
    "    You are an expert at working with files.\n",
    "\n",
    "    Please list all key-value pairs in the metadata of the given file.\n",
    "\n",
    "    DO NOT MAKE UP FICTITIOUS KEY NAMES OR VALUES!!!\n",
    "\"\"\".strip()"
   ]
  },
  {
   "cell_type": "code",
   "execution_count": 5,
   "id": "fb0e4e46-aeb2-4731-bcc9-80ecae9b3143",
   "metadata": {},
   "outputs": [
    {
     "name": "stdout",
     "output_type": "stream",
     "text": [
      "I'm unable to access or extract metadata from files directly. If you have specific metadata details or text you need help with, feel free to share, and I'll do my best to assist!\n"
     ]
    }
   ],
   "source": [
    "response = client.responses.create(\n",
    "    model=model_name,\n",
    "        \n",
    "    input=[\n",
    "        {\n",
    "            \"role\": \"user\",\n",
    "            \"content\": [\n",
    "                {\n",
    "                    \"type\": \"input_file\",\n",
    "                    \"filename\": \"foo.pdf\",\n",
    "                    \"file_data\": f\"data:application/pdf;base64,{base64_data}\"\n",
    "                },\n",
    "                {\n",
    "                    \"type\": \"input_text\",\n",
    "                    \"text\": prompt,\n",
    "                },\n",
    "            ]\n",
    "        }\n",
    "    ],\n",
    "\n",
    "    store=False\n",
    ")\n",
    "\n",
    "print(response.output_text)"
   ]
  },
  {
   "cell_type": "code",
   "execution_count": null,
   "id": "25cce7da-816e-422c-877d-032d47112e60",
   "metadata": {},
   "outputs": [],
   "source": []
  },
  {
   "cell_type": "markdown",
   "id": "2cad37b6-706b-4a63-9e7a-3b5921f3c69f",
   "metadata": {},
   "source": [
    "## Clean-up!\n",
    "\n",
    "DO NOT FORGET TO REMOVE ANY FILES USED IN THIS SANDBOX!"
   ]
  },
  {
   "cell_type": "code",
   "execution_count": 6,
   "id": "55e9e7ec-a510-48eb-9d2d-5a79042fa2c1",
   "metadata": {},
   "outputs": [
    {
     "name": "stdout",
     "output_type": "stream",
     "text": [
      "Lastly, we clean up any files on OpenAI storage\n"
     ]
    }
   ],
   "source": [
    "print(\"Lastly, we clean up any files on OpenAI storage\")\n",
    "\n",
    "for f in client.files.list():\n",
    "    client.files.delete(f.id)"
   ]
  },
  {
   "cell_type": "code",
   "execution_count": 7,
   "id": "008fd186-684c-406e-babd-0b15aaf2a7e1",
   "metadata": {},
   "outputs": [
    {
     "name": "stdout",
     "output_type": "stream",
     "text": [
      "Any files left on OpenAI storage?\n"
     ]
    },
    {
     "data": {
      "text/plain": [
       "SyncCursorPage[FileObject](data=[], has_more=False, object='list', first_id=None, last_id=None)"
      ]
     },
     "execution_count": 7,
     "metadata": {},
     "output_type": "execute_result"
    }
   ],
   "source": [
    "print(\"Any files left on OpenAI storage?\")\n",
    "\n",
    "client.files.list()"
   ]
  },
  {
   "cell_type": "code",
   "execution_count": null,
   "id": "4c93cc54-3f28-45eb-9e03-65b003d1ed51",
   "metadata": {},
   "outputs": [],
   "source": []
  }
 ],
 "metadata": {
  "kernelspec": {
   "display_name": "Python 3 (ipykernel)",
   "language": "python",
   "name": "python3"
  },
  "language_info": {
   "codemirror_mode": {
    "name": "ipython",
    "version": 3
   },
   "file_extension": ".py",
   "mimetype": "text/x-python",
   "name": "python",
   "nbconvert_exporter": "python",
   "pygments_lexer": "ipython3",
   "version": "3.10.17"
  }
 },
 "nbformat": 4,
 "nbformat_minor": 5
}
