{
 "cells": [
  {
   "cell_type": "code",
   "execution_count": 1,
   "id": "678890df-a549-44a4-b009-a574b73e7d63",
   "metadata": {},
   "outputs": [],
   "source": [
    "import base64\n",
    "import json\n",
    "import os\n",
    "\n",
    "from openai import OpenAI\n",
    "\n",
    "from pydantic import BaseModel, Field, ConfigDict"
   ]
  },
  {
   "cell_type": "code",
   "execution_count": 2,
   "id": "4f0c2376-f975-4f4d-843c-ab4ce7a7c637",
   "metadata": {},
   "outputs": [],
   "source": [
    "OPENAI_API_KEY = os.environ[\"OPENAI_API_KEY\"]"
   ]
  },
  {
   "cell_type": "code",
   "execution_count": 3,
   "id": "3b70357f-22be-4117-97bb-8df472fbb0c7",
   "metadata": {},
   "outputs": [],
   "source": [
    "client = OpenAI()"
   ]
  },
  {
   "cell_type": "code",
   "execution_count": 4,
   "id": "213ecf10-a923-434d-932f-c34187a5bf9f",
   "metadata": {},
   "outputs": [],
   "source": [
    "SYSTEM_LEVEL_INSTRUCTION = (\n",
    "    \"You are an expert financial data analyst, specializing in accurate information extraction. \"\n",
    "    \"You are also perfectly bilingual in Japanese and English. \"\n",
    ").strip()"
   ]
  },
  {
   "cell_type": "code",
   "execution_count": 5,
   "id": "2317dcc0-bf83-47c1-808a-01aa49f4d5ec",
   "metadata": {},
   "outputs": [],
   "source": [
    "with open(\"samples/saintmarc-hd_20250313.pdf\", \"rb\") as f:\n",
    "    raw_data = f.read()\n",
    "\n",
    "base64_data = base64.b64encode(raw_data).decode(\"utf-8\")"
   ]
  },
  {
   "cell_type": "code",
   "execution_count": 6,
   "id": "59c5b1c0-deca-42a8-bed7-da43b13af555",
   "metadata": {},
   "outputs": [],
   "source": [
    "model_name = \"gpt-4o\""
   ]
  },
  {
   "cell_type": "code",
   "execution_count": 7,
   "id": "24238223-38d1-4fee-a6fe-2bb63719f402",
   "metadata": {},
   "outputs": [],
   "source": [
    "prompt = \"\"\"\n",
    "Extract all key-value pairs in the metadata of the given PDF.\n",
    "\"\"\".strip()"
   ]
  },
  {
   "cell_type": "code",
   "execution_count": 8,
   "id": "fb0e4e46-aeb2-4731-bcc9-80ecae9b3143",
   "metadata": {},
   "outputs": [
    {
     "name": "stdout",
     "output_type": "stream",
     "text": [
      "I'm unable to access or extract metadata from PDF files directly. However, I can help analyze and summarize the content shown in the image of the document. If you have any specific questions or need a summary of the table data provided in the image, feel free to ask!\n"
     ]
    }
   ],
   "source": [
    "response = client.responses.create(\n",
    "    model=model_name,\n",
    "        \n",
    "    input=[\n",
    "        {\n",
    "            \"role\": \"system\", \n",
    "            \"content\": SYSTEM_LEVEL_INSTRUCTION\n",
    "        },\n",
    "        \n",
    "        {\n",
    "            \"role\": \"user\",\n",
    "            \"content\": [\n",
    "                {\n",
    "                    \"type\": \"input_file\",\n",
    "                    \"filename\": \"foo.pdf\",\n",
    "                    \"file_data\": f\"data:application/pdf;base64,{base64_data}\"\n",
    "                },\n",
    "                {\n",
    "                    \"type\": \"input_text\",\n",
    "                    \"text\": prompt,\n",
    "                },\n",
    "            ]\n",
    "        }\n",
    "    ],\n",
    "\n",
    "    store=False\n",
    ")\n",
    "\n",
    "print(response.output_text)"
   ]
  },
  {
   "cell_type": "code",
   "execution_count": null,
   "id": "af8b444e-3b55-412c-93b3-63d4e0f0c01d",
   "metadata": {},
   "outputs": [],
   "source": []
  }
 ],
 "metadata": {
  "kernelspec": {
   "display_name": "Python 3 (ipykernel)",
   "language": "python",
   "name": "python3"
  },
  "language_info": {
   "codemirror_mode": {
    "name": "ipython",
    "version": 3
   },
   "file_extension": ".py",
   "mimetype": "text/x-python",
   "name": "python",
   "nbconvert_exporter": "python",
   "pygments_lexer": "ipython3",
   "version": "3.10.16"
  }
 },
 "nbformat": 4,
 "nbformat_minor": 5
}
