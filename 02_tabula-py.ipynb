{
 "cells": [
  {
   "cell_type": "markdown",
   "id": "d7402507-e079-4a8a-ad7f-3529eeb5ab33",
   "metadata": {},
   "source": [
    "# Extracting table contents with Tabula-py"
   ]
  },
  {
   "cell_type": "markdown",
   "id": "294ecbb8-24d1-40ec-bbca-b657d9e858f0",
   "metadata": {},
   "source": [
    "???"
   ]
  },
  {
   "cell_type": "code",
   "execution_count": 2,
   "id": "a5c7efec-c8b0-4fa8-8e9e-3377023e18ec",
   "metadata": {},
   "outputs": [
    {
     "name": "stdout",
     "output_type": "stream",
     "text": [
      "total 284\n",
      "drwxr-xr-x 2 so_olliphant so_olliphant   4096 Mar 29 02:42 .\n",
      "drwxr-xr-x 6 so_olliphant so_olliphant   4096 Mar 29 08:45 ..\n",
      "-rw-r--r-- 1 so_olliphant so_olliphant 186261 Mar 29 01:59 Press_release_car_registrations_February_2025.pdf\n",
      "-rw-r--r-- 1 so_olliphant so_olliphant  38429 Feb 13 06:53 saintmarc-hd_20250213.pdf\n",
      "-rw-r--r-- 1 so_olliphant so_olliphant  52238 Mar 29 02:00 saintmarc-hd_20250313.pdf\n"
     ]
    }
   ],
   "source": [
    "!ls -la samples"
   ]
  },
  {
   "cell_type": "code",
   "execution_count": 1,
   "id": "dec36849-e411-43f1-a2c5-155cb65d2427",
   "metadata": {},
   "outputs": [],
   "source": [
    "import tabula"
   ]
  },
  {
   "cell_type": "markdown",
   "id": "21497291-4dfa-46df-b2e4-e3d9cb5a690f",
   "metadata": {},
   "source": [
    "----"
   ]
  },
  {
   "cell_type": "code",
   "execution_count": 3,
   "id": "4956b17c-cf54-4b1c-b98f-9824ca341888",
   "metadata": {},
   "outputs": [
    {
     "name": "stderr",
     "output_type": "stream",
     "text": [
      "Mar 29, 2025 8:46:48 AM org.apache.fontbox.ttf.CmapSubtable processSubtype14\n",
      "WARNING: Format 14 cmap table is not supported and will be ignored\n",
      "Mar 29, 2025 8:46:49 AM org.apache.fontbox.ttf.CmapSubtable processSubtype14\n",
      "WARNING: Format 14 cmap table is not supported and will be ignored\n"
     ]
    },
    {
     "name": "stdout",
     "output_type": "stream",
     "text": [
      "  Unnamed: 0    年度                                4月 5月  6月  7月  8月  9月  \\\n",
      "0       昨年対比  2022  118.9 144.0 126.3 110.7 124.0 127.2 NaN NaN NaN NaN   \n",
      "1   全店売上 (%)  2023  116.0 110.7 109.5 117.6 119.1 114.3 NaN NaN NaN NaN   \n",
      "2        NaN  2024  102.6 102.4 109.9 100.7 106.6 105.6 NaN NaN NaN NaN   \n",
      "3       昨年対比  2022  115.1 126.0 122.8 111.5 124.8 127.4 NaN NaN NaN NaN   \n",
      "4  既存店売上 (%)  2023  119.7 114.6 113.8 120.7 122.9 117.1 NaN NaN NaN NaN   \n",
      "5        NaN  2024  107.1 106.3 113.9 105.2 110.5 110.3 NaN NaN NaN NaN   \n",
      "\n",
      "   Unnamed: 7                                上半期 10月 11月  12月  1月  2月  3月  \\\n",
      "0         NaN  124.5 115.7 107.4 106.1 122.5 140.1 120.5  NaN NaN NaN NaN   \n",
      "1         NaN  114.6 106.5 108.6 108.8 108.1 107.9 110.3  NaN NaN NaN NaN   \n",
      "2         NaN               104.6 98.8 104.5 101.8 101.2  NaN NaN NaN NaN   \n",
      "3         NaN  120.9 115.8 107.0 106.3 123.6 143.7 123.8  NaN NaN NaN NaN   \n",
      "4         NaN  118.2 110.3 113.1 113.3 113.2 112.8 115.1  NaN NaN NaN NaN   \n",
      "5         NaN              108.8 103.8 109.2 104.9 104.0  NaN NaN NaN NaN   \n",
      "\n",
      "   Unnamed: 13     通期  \n",
      "0          NaN  120.7  \n",
      "1          NaN  111.3  \n",
      "2          NaN    NaN  \n",
      "3          NaN  119.6  \n",
      "4          NaN  115.5  \n",
      "5          NaN    NaN  \n"
     ]
    }
   ],
   "source": [
    "pdf_path = 'samples/saintmarc-hd_20250213.pdf'\n",
    "\n",
    "dfs = tabula.read_pdf(pdf_path, pages=1, multiple_tables=False, stream=True)\n",
    "\n",
    "print(dfs[0])"
   ]
  },
  {
   "cell_type": "markdown",
   "id": "a8f1db0a-cee9-4a83-8bd3-ae08df59e951",
   "metadata": {},
   "source": [
    "----"
   ]
  },
  {
   "cell_type": "code",
   "execution_count": 5,
   "id": "0adbc18d-b317-4a0b-ac45-831223936f8a",
   "metadata": {},
   "outputs": [
    {
     "name": "stderr",
     "output_type": "stream",
     "text": [
      "The output file is empty.\n"
     ]
    }
   ],
   "source": [
    "pdf_path = 'samples/saintmarc-hd_20250313.pdf'\n",
    "\n",
    "dfs = tabula.read_pdf(pdf_path, pages=1, multiple_tables=False, stream=True)\n",
    "\n",
    "#print(dfs[0])"
   ]
  },
  {
   "cell_type": "markdown",
   "id": "a1e671f6-8ed7-4fd0-b668-4ab2c23cb7cc",
   "metadata": {},
   "source": [
    "----"
   ]
  },
  {
   "cell_type": "code",
   "execution_count": 7,
   "id": "f98c9b88-6e79-4674-821b-46686bc4ce06",
   "metadata": {},
   "outputs": [
    {
     "name": "stderr",
     "output_type": "stream",
     "text": [
      "Mar 29, 2025 8:49:03 AM org.apache.pdfbox.pdmodel.font.PDTrueTypeFont <init>\n",
      "WARNING: Using fallback font 'LiberationSans' for 'ArialNarrow'\n",
      "Mar 29, 2025 8:49:03 AM org.apache.pdfbox.pdmodel.font.PDTrueTypeFont <init>\n",
      "WARNING: Using fallback font 'LiberationSans' for 'ArialNarrow'\n"
     ]
    },
    {
     "name": "stdout",
     "output_type": "stream",
     "text": [
      "        Unnamed: 0            BATTERY ELECTRIC              PLUG-IN HYBRID  \\\n",
      "0              NaN  February February % change  February February % change   \n",
      "1              NaN             2025 2024 25/24             2025 2024 25/24   \n",
      "2          Austria           4,233 3,322 +27.4           1,613 1,335 +20.8   \n",
      "3          Belgium          13,040 9,385 +38.9           3,070 8,385 -63.4   \n",
      "4         Bulgaria                126 122 +3.3                  34 31 +9.7   \n",
      "5          Croatia                  53 50 +6.0                140 94 +48.9   \n",
      "6           Cyprus                107 105 +1.9                 78 48 +62.5   \n",
      "7          Czechia               737 438 +68.3               557 450 +23.8   \n",
      "8          Denmark           7,724 4,974 +55.3               312 525 -40.6   \n",
      "9          Estonia                 59 89 -33.7                 69 59 +16.9   \n",
      "10         Finland           1,563 1,330 +17.5           1,035 1,237 -16.3   \n",
      "11          France          25,335 25,825 -1.9          6,451 11,732 -45.0   \n",
      "12         Germany         35,949 27,479 +30.8         19,534 14,575 +34.0   \n",
      "13          Greece               718 581 +23.6               610 525 +16.2   \n",
      "14         Hungary                690 741 -6.9               385 545 -29.4   \n",
      "15         Ireland           2,512 1,856 +35.3           2,100 1,420 +47.9   \n",
      "16           Italy           6,922 5,007 +38.2           6,131 4,598 +33.3   \n",
      "17          Latvia                  80 78 +2.6               134 28 +378.6   \n",
      "18       Lithuania                101 108 -6.5              209 103 +102.9   \n",
      "19      Luxembourg             1,134 942 +20.4               291 385 -24.4   \n",
      "20           Malta                46 260 -82.3                 27 58 -53.4   \n",
      "21     Netherlands          10,174 8,315 +22.4            4,376 4,304 +1.7   \n",
      "22          Poland           1,675 1,370 +22.3           1,887 1,301 +45.0   \n",
      "23        Portugal           3,946 3,191 +23.7           2,093 2,394 -12.6   \n",
      "24         Romania             724 1,109 -34.7                         NaN   \n",
      "25        Slovakia               276 190 +45.3               240 167 +43.7   \n",
      "26        Slovenia               367 278 +32.0               187 104 +79.8   \n",
      "27           Spain           6,112 3,806 +60.6           6,901 5,562 +24.1   \n",
      "28          Sweden           6,872 5,215 +31.8           5,106 4,510 +13.2   \n",
      "29  EUROPEAN UNION       131,275 106,166 +23.7          63,570 64,475 -1.4   \n",
      "\n",
      "            2HYBRID ELECTRIC 1             OTHERS  Unnamed: 1 Unnamed: 2  \\\n",
      "0   February February % change  February February         NaN   % change   \n",
      "1              2025 2024 25/24          2025 2024         NaN      25/24   \n",
      "2            5,549 4,691 +18.3                  0         0.0        NaN   \n",
      "3            5,383 4,282 +25.7            267 415         NaN      -35.7   \n",
      "4                 105 73 +43.8                  0         0.0        NaN   \n",
      "5            1,629 1,455 +12.0            101 110         NaN       -8.2   \n",
      "6                 579 609 -4.9                  0         0.0        NaN   \n",
      "7             3,634 3,577 +1.6            470 579         NaN      -18.8   \n",
      "8            1,453 1,941 -25.1                  0         0.0        NaN   \n",
      "9                307 609 -49.6                  0         9.0     -100.0   \n",
      "10           1,398 1,735 -19.4                  0        39.0     -100.0   \n",
      "11         62,146 41,227 +50.7        5,821 5,495         NaN       +5.9   \n",
      "12          58,153 54,792 +6.1          771 1,283         NaN      -39.9   \n",
      "13           5,002 4,445 +12.5            136 148         NaN       -8.1   \n",
      "14           5,589 5,058 +10.5                 42         7.0     +500.0   \n",
      "15            3,137 2,940 +6.7                  0         0.0        NaN   \n",
      "16         61,196 55,537 +10.2      13,690 14,595         NaN       -6.2   \n",
      "17                         0 0                 18        36.0      -50.0   \n",
      "18             1,284 954 +34.6                 28        39.0      -28.2   \n",
      "19           1,196 1,002 +19.4                  0         0.0        NaN   \n",
      "20                98 124 -21.0                  0         0.0        NaN   \n",
      "21            8,122 9,007 -9.8             48 245         NaN      -80.4   \n",
      "22          23,470 21,506 +9.1        1,095 1,273         NaN      -14.0   \n",
      "23           4,974 2,821 +76.3        1,702 1,542         NaN      +10.4   \n",
      "24           5,510 3,736 +47.5          1,354 953         NaN      +42.1   \n",
      "25           1,992 2,313 -13.9            143 139         NaN       +2.9   \n",
      "26               416 472 -11.9                 52        33.0      +57.6   \n",
      "27         39,798 28,631 +39.0        4,380 2,417         NaN      +81.2   \n",
      "28            1,942 1,906 +1.9              3 767         NaN      -99.6   \n",
      "29       304,062 255,443 +19.0      30,121 30,124         NaN       -0.0   \n",
      "\n",
      "   Unnamed: 3    PETROL Unnamed: 4 Unnamed: 5    DIESEL Unnamed: 6 Unnamed: 7  \\\n",
      "0    February  February   % change   February  February   % change   February   \n",
      "1        2025      2024      25/24       2025      2024      25/24       2025   \n",
      "2       5,736     6,527      -12.1      2,488     4,135      -39.8     19,619   \n",
      "3      17,280    18,918       -8.7      1,121     2,337      -52.0     40,161   \n",
      "4       2,781     2,868       -3.0        348       510      -31.8      3,394   \n",
      "5       1,644     1,898      -13.4        678       923      -26.5      4,245   \n",
      "6         456       712      -36.0         64        27     +137.0      1,284   \n",
      "7       8,844     9,723       -9.0      3,531     3,561       -0.8     17,773   \n",
      "8       1,908     3,415      -44.1        220       363      -39.4     11,617   \n",
      "9         132       430      -69.3         57       244      -76.6        624   \n",
      "10        598       736      -18.8        190       297      -36.0      4,784   \n",
      "11     35,110    48,095      -27.0      6,707    10,221      -34.4    141,570   \n",
      "12     56,911    77,106      -26.2     32,116    42,153      -23.8    203,434   \n",
      "13      3,116     4,472      -30.3        236     1,280      -81.6      9,818   \n",
      "14      2,428     3,280      -26.0      1,441     1,110      +29.8     10,575   \n",
      "15      3,776     5,671      -33.4      2,444     4,545      -46.2     13,969   \n",
      "16     36,404    45,966      -20.8     13,677    21,499      -36.4    138,020   \n",
      "17        885       794      +11.5        281       282       -0.4      1,398   \n",
      "18        415       606      -31.5        494       204     +142.2      2,531   \n",
      "19      1,054     1,377      -23.5        436       581      -25.0      4,111   \n",
      "20        118       199      -40.7         14        16      -12.5        303   \n",
      "21      4,781     8,197      -41.7        319       264      +20.8     27,820   \n",
      "22     13,390    17,014      -21.3      3,278     3,509       -6.6     44,795   \n",
      "23      5,751     9,041      -36.4        997     1,523      -34.5     19,463   \n",
      "24      3,007     3,729      -19.4      1,255     1,812      -30.7     11,850   \n",
      "25      2,526     3,692      -31.6      1,028     1,201      -14.4      6,205   \n",
      "26      2,539     2,591       -2.0        811       670      +21.0      4,372   \n",
      "27     27,980    32,659      -14.3      5,156     8,275      -37.7     90,327   \n",
      "28      4,503     4,788       -6.0      1,182     1,584      -25.4     19,608   \n",
      "29    244,073   314,504      -22.4     80,569   113,126      -28.8    853,670   \n",
      "\n",
      "       TOTAL Unnamed: 8  \n",
      "0   February   % change  \n",
      "1       2024      25/24  \n",
      "2     20,010       -2.0  \n",
      "3     43,722       -8.1  \n",
      "4      3,604       -5.8  \n",
      "5      4,530       -6.3  \n",
      "6      1,501      -14.5  \n",
      "7     18,328       -3.0  \n",
      "8     11,218       +3.6  \n",
      "9      1,440      -56.7  \n",
      "10     5,374      -11.0  \n",
      "11   142,595       -0.7  \n",
      "12   217,388       -6.4  \n",
      "13    11,451      -14.3  \n",
      "14    10,741       -1.5  \n",
      "15    16,432      -15.0  \n",
      "16   147,202       -6.2  \n",
      "17     1,218      +14.8  \n",
      "18     2,014      +25.7  \n",
      "19     4,287       -4.1  \n",
      "20       657      -53.9  \n",
      "21    30,332       -8.3  \n",
      "22    45,973       -2.6  \n",
      "23    20,512       -5.1  \n",
      "24    11,339       +4.5  \n",
      "25     7,702      -19.4  \n",
      "26     4,148       +5.4  \n",
      "27    81,350      +11.0  \n",
      "28    18,770       +4.5  \n",
      "29   883,838       -3.4  \n"
     ]
    }
   ],
   "source": [
    "pdf_path = 'samples/Press_release_car_registrations_February_2025.pdf'\n",
    "\n",
    "dfs = tabula.read_pdf(pdf_path, pages=3, multiple_tables=True, stream=True)\n",
    "\n",
    "print(dfs[0])"
   ]
  },
  {
   "cell_type": "markdown",
   "id": "a2558fbd-bea1-4239-b8f5-b97bb68596b4",
   "metadata": {},
   "source": [
    "----"
   ]
  },
  {
   "cell_type": "markdown",
   "id": "5b420f3e-f93a-4232-a422-dff6597ee1bb",
   "metadata": {},
   "source": [
    "## Conclusion\n",
    "\n",
    "* Tabula-py is ... useful, but only some of the time."
   ]
  },
  {
   "cell_type": "code",
   "execution_count": null,
   "id": "b6a578ae-6fa7-4dcb-897f-63cbcfe01d94",
   "metadata": {},
   "outputs": [],
   "source": []
  }
 ],
 "metadata": {
  "kernelspec": {
   "display_name": "Python 3 (ipykernel)",
   "language": "python",
   "name": "python3"
  },
  "language_info": {
   "codemirror_mode": {
    "name": "ipython",
    "version": 3
   },
   "file_extension": ".py",
   "mimetype": "text/x-python",
   "name": "python",
   "nbconvert_exporter": "python",
   "pygments_lexer": "ipython3",
   "version": "3.10.16"
  }
 },
 "nbformat": 4,
 "nbformat_minor": 5
}
