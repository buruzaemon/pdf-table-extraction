{
 "cells": [
  {
   "cell_type": "markdown",
   "id": "7bf75381-db69-4b86-a4b8-13f1f062ddae",
   "metadata": {},
   "source": [
    "# Compliance Tasks Using OpenAI's `gpt-4o`\n",
    "\n",
    "## Implementing an \"autoscan\" function via Prompt engineering"
   ]
  },
  {
   "cell_type": "code",
   "execution_count": 1,
   "id": "ededc95d-27d1-4275-975b-7552d63b2308",
   "metadata": {},
   "outputs": [],
   "source": [
    "import base64\n",
    "import json\n",
    "import os\n",
    "\n",
    "from openai import OpenAI\n",
    "\n",
    "from pydantic import BaseModel, Field, ConfigDict"
   ]
  },
  {
   "cell_type": "markdown",
   "id": "86d3433a-a785-45ec-9114-5c29eb35bc24",
   "metadata": {},
   "source": [
    "### Authentication\n",
    "\n",
    "> The OpenAI API uses API keys for authentication....\n",
    ">\n",
    "> ... Once you've generated an API key, export it as an environment variable in your terminal.\n",
    ">\n",
    "> ... OpenAI SDKs are configured to automatically read your API key from the system environment."
   ]
  },
  {
   "cell_type": "code",
   "execution_count": 2,
   "id": "a9c5dfb5-05dd-41f2-864b-1245d5087817",
   "metadata": {},
   "outputs": [],
   "source": [
    "OPENAI_API_KEY = os.environ[\"OPENAI_API_KEY\"]"
   ]
  },
  {
   "cell_type": "markdown",
   "id": "81deb212-f019-4fae-b263-2c0dfa5e5ec8",
   "metadata": {},
   "source": [
    "API keys are provided automagically via [HTTP Bearer authentication](https://swagger.io/docs/specification/v3_0/authentication/bearer-authentication/).\n",
    "\n",
    "The actual HTTP header looks like this:\n",
    "\n",
    "    Authorization: Bearer OPENAI_API_KEY"
   ]
  },
  {
   "cell_type": "markdown",
   "id": "cc2df6e7-b350-4281-a946-c292d3938fe3",
   "metadata": {},
   "source": [
    "### Instantiate a client to the OpenAI API"
   ]
  },
  {
   "cell_type": "code",
   "execution_count": 3,
   "id": "22a75639-09b9-45c7-a7fe-926f3132c92f",
   "metadata": {},
   "outputs": [],
   "source": [
    "client = OpenAI()"
   ]
  },
  {
   "cell_type": "code",
   "execution_count": 4,
   "id": "99deffd3-3b25-4435-b083-075522c11d25",
   "metadata": {},
   "outputs": [],
   "source": [
    "SYSTEM_LEVEL_INSTRUCTION = (\n",
    "    \"You are an expert financial data analyst, specializing in Compliance. \"\n",
    "    \"You are also perfectly bilingual in Japanese and English. \"\n",
    "    \"As you work for the Compliance team, you need to follow the given instructions to the letter \"\n",
    "    \"and make sure that the given file does not break any financial laws or regulations. \"\n",
    "    \"Not only must you read the text in the file, but you must use OCR in order to also \"\n",
    "    \"read any text that might appear in all images and objects embedded in the file. \"\n",
    ").strip()"
   ]
  },
  {
   "cell_type": "markdown",
   "id": "17b24ef7-f9f0-4e64-a24c-539003f87f24",
   "metadata": {},
   "source": [
    "### File inputs\n",
    "\n",
    "* The OpenAI API expects PDF files as input.\n",
    "* We can pass the PDF file with our request by transforming the raw bytes into [Base64](https://en.wikipedia.org/wiki/Base64)."
   ]
  },
  {
   "cell_type": "code",
   "execution_count": 5,
   "id": "977a25bd-dccd-4a21-9e9e-4d4d48700c8e",
   "metadata": {},
   "outputs": [],
   "source": [
    "with open(\"samples/sample_ppt.pdf\", \"rb\") as f:\n",
    "    raw_data = f.read()\n",
    "\n",
    "base64_data = base64.b64encode(raw_data).decode(\"utf-8\")"
   ]
  },
  {
   "cell_type": "markdown",
   "id": "101d3b81-631b-474b-8426-252a41a42b3b",
   "metadata": {},
   "source": [
    "### Defining the \"autoscan\" function\n",
    "\n",
    "#### Inputs\n",
    "\n",
    "The general inputs to the \"autoscan\" function are:\n",
    "* OpenAI API client\n",
    "* GPT model name\n",
    "* Input PDF file name\n",
    "* Input PDF file bytes as Base64-string\n",
    "* Prompt to model\n",
    "\n",
    "#### Output\n",
    "\n",
    "The general output is the answer from the specified model. Note that the implementation of the \"answer\" depends upon the OpenAI API used internally within the \"autoscan\" function definition.\n",
    "\n",
    "There are two major APIs available from OpenAI:\n",
    "1. the newer [Responses API](https://platform.openai.com/docs/api-reference/responses)\n",
    "2. the legacy [Chat Completions API](https://platform.openai.com/docs/api-reference/chat)\n",
    "\n",
    "* Specify system-level instructions to guide the model's responses. Define general model behavior here.\n",
    "* Per-request model instructions are provided via the prompt.\n",
    "\n",
    "As we probably wish to leverage [zero data retention](https://platform.openai.com/docs/guides/your-data#default-usage-policies-by-endpoint), do NOT use the newer [Responses API](https://platform.openai.com/docs/api-reference/responses)! \n",
    "\n",
    "We instead use the older [Chat Completions API](https://platform.openai.com/docs/api-reference/chat). Although by default this API will save any input data for 30 days, _the option for zero data retention is available_."
   ]
  },
  {
   "cell_type": "code",
   "execution_count": 6,
   "id": "a913aaaf-cb3d-45ec-bee7-5ac8de4e9af2",
   "metadata": {},
   "outputs": [],
   "source": [
    "model_name = \"gpt-4o\""
   ]
  },
  {
   "cell_type": "code",
   "execution_count": 7,
   "id": "1c67879d-02d6-4e24-ae33-875ce9413e76",
   "metadata": {},
   "outputs": [],
   "source": [
    "prompt = \"\"\"\n",
    "Scan the given file, and tell me if there is any appearance of following terms:\n",
    "1. ティムコ\n",
    "2. 7501\n",
    "3. ダイワ\n",
    "4. 6121\n",
    "\n",
    "For each of the terms listed above, create a result object that includes both the term\n",
    "and the location in the PDF of the term.\n",
    "\n",
    "Good examples of location values are:\n",
    "- page 1, title\n",
    "- page 2, table\n",
    "- page 3, text\n",
    "- page 4, bullet\n",
    "- page 5, footnotes\n",
    "- page 6, graph\n",
    "- page 7, image\n",
    "- not found\n",
    "\"\"\".strip()"
   ]
  },
  {
   "cell_type": "markdown",
   "id": "60f5f6dc-c3ac-4cb3-a817-7e2c95bede3d",
   "metadata": {},
   "source": [
    "### Structured output\n",
    "\n",
    "Read more about using structured output in the OpenAI API [here](https://platform.openai.com/docs/guides/structured-outputs?api-mode=chat#introduction).\n",
    "        \n",
    "        \"schema\": {\n",
    "            \"type\": \"object\",\n",
    "            \"properties\": {\n",
    "                \"results\": {\n",
    "                    \"type\": \"array\", \n",
    "                    \"items\": {\n",
    "                        \"type\": \"object\",\n",
    "                        \"properties\": {\n",
    "                            \"term\": {\"type\": \"string\"},\n",
    "                            \"location\": {\"type\": \"string\"}\n",
    "                         },\n",
    "                        \"required\": [\"term\", \"location\"],\n",
    "                        \"additionalProperties\": False\n",
    "                    }\n",
    "                },\n",
    "            },\n",
    "            \"required\": [\"results\"],\n",
    "            \"additionalProperties\": False\n",
    "        }"
   ]
  },
  {
   "cell_type": "code",
   "execution_count": 9,
   "id": "5491fcab-da36-4a9b-b12f-d5e81d43e9fa",
   "metadata": {},
   "outputs": [
    {
     "name": "stdout",
     "output_type": "stream",
     "text": [
      "{\n",
      "  \"$defs\": {\n",
      "    \"Result\": {\n",
      "      \"additionalProperties\": false,\n",
      "      \"properties\": {\n",
      "        \"term\": {\n",
      "          \"description\": \"the search term\",\n",
      "          \"title\": \"Term\",\n",
      "          \"type\": \"string\"\n",
      "        },\n",
      "        \"location\": {\n",
      "          \"description\": \"single location in the document where the term was found.\",\n",
      "          \"title\": \"Location\",\n",
      "          \"type\": \"string\"\n",
      "        }\n",
      "      },\n",
      "      \"required\": [\n",
      "        \"term\",\n",
      "        \"location\"\n",
      "      ],\n",
      "      \"title\": \"Result\",\n",
      "      \"type\": \"object\"\n",
      "    }\n",
      "  },\n",
      "  \"additionalProperties\": false,\n",
      "  \"properties\": {\n",
      "    \"results\": {\n",
      "      \"description\": \"list of search results\",\n",
      "      \"items\": {\n",
      "        \"$ref\": \"#/$defs/Result\"\n",
      "      },\n",
      "      \"title\": \"Results\",\n",
      "      \"type\": \"array\"\n",
      "    }\n",
      "  },\n",
      "  \"required\": [\n",
      "    \"results\"\n",
      "  ],\n",
      "  \"title\": \"AutoscanResults\",\n",
      "  \"type\": \"object\"\n",
      "}\n"
     ]
    }
   ],
   "source": [
    "class Result(BaseModel):\n",
    "    model_config = ConfigDict(extra=\"forbid\")\n",
    "    term: str = Field(description=\"the search term\")\n",
    "    location: str = Field(\n",
    "        description=(\"single location in the document where the term was found.\")\n",
    "    )\n",
    "\n",
    "class AutoscanResults(BaseModel):\n",
    "    model_config = ConfigDict(extra=\"forbid\")\n",
    "    results: list[Result] = Field(description=\"list of search results\")\n",
    "    \n",
    "results_schema = AutoscanResults.model_json_schema()\n",
    "\n",
    "print(json.dumps(results_schema, indent=2))"
   ]
  },
  {
   "cell_type": "markdown",
   "id": "fdccb4f2-f947-4ee0-b9e0-7bb3a3fcbb1c",
   "metadata": {},
   "source": [
    "#### `autoscan` implemented with the newer [Responses API](https://platform.openai.com/docs/api-reference/responses)"
   ]
  },
  {
   "cell_type": "code",
   "execution_count": 10,
   "id": "7861d545-8fcb-4146-b41a-37fd19f3ec8a",
   "metadata": {},
   "outputs": [],
   "source": [
    "def autoscan_responses(client, model_name, filename, filedata, prompt):\n",
    "    response = client.responses.create(\n",
    "        model=model_name,\n",
    "        \n",
    "        input=[\n",
    "            {\n",
    "                \"role\": \"system\", \n",
    "                \"content\": SYSTEM_LEVEL_INSTRUCTION\n",
    "            },\n",
    "            \n",
    "            {\n",
    "                \"role\": \"user\",\n",
    "                \"content\": [\n",
    "                    {\n",
    "                        \"type\": \"input_file\",\n",
    "                        \"filename\": filename,\n",
    "                        \"file_data\": f\"data:application/pdf;base64,{filedata}\"\n",
    "                    },\n",
    "                    {\n",
    "                        \"type\": \"input_text\",\n",
    "                        \"text\": prompt,\n",
    "                    },\n",
    "                ]\n",
    "            }\n",
    "        ],\n",
    "\n",
    "        text={\n",
    "            \"format\": {\n",
    "                \"type\": \"json_schema\",\n",
    "                \"name\": \"autoscan\",\n",
    "                \"schema\": results_schema,\n",
    "                \"strict\": True\n",
    "            }\n",
    "        },\n",
    "\n",
    "        store=False\n",
    "    )\n",
    "\n",
    "    return response"
   ]
  },
  {
   "cell_type": "code",
   "execution_count": 11,
   "id": "98d0a0cb-8d69-4f7c-b7c8-8096110b2c21",
   "metadata": {},
   "outputs": [
    {
     "name": "stdout",
     "output_type": "stream",
     "text": [
      "Autoscan results:\n",
      "- {'term': 'ティムコ', 'location': 'page 2, table'}\n",
      "- {'term': '7501', 'location': 'page 2, table'}\n",
      "- {'term': 'ダイワ', 'location': 'not found'}\n",
      "- {'term': '6121', 'location': 'not found'}\n",
      "CPU times: user 36.9 ms, sys: 8.15 ms, total: 45 ms\n",
      "Wall time: 4.45 s\n"
     ]
    }
   ],
   "source": [
    "%%time\n",
    "\n",
    "response = autoscan_responses(client, model_name, \"sample_ppt.pdf\", base64_data, prompt)\n",
    "\n",
    "#print(response.output_text)\n",
    "if response.error:\n",
    "    print(\"ERROR: ...\")\n",
    "else:\n",
    "    print(\"Autoscan results:\")\n",
    "    o = json.loads(response.output_text)\n",
    "    for result in o[\"results\"]:\n",
    "        print(f\"- {result}\")    "
   ]
  },
  {
   "cell_type": "code",
   "execution_count": 12,
   "id": "405ebe6b-4559-4a1a-a5ec-1d80f39fddb2",
   "metadata": {},
   "outputs": [
    {
     "name": "stdout",
     "output_type": "stream",
     "text": [
      "Response(id='resp_67fb67892fc881929c0788d6da1505bf05ff722e7e450649', created_at=1744529290.0, error=None, incomplete_details=None, instructions=None, metadata={}, model='gpt-4o-2024-08-06', object='response', output=[ResponseOutputMessage(id='msg_67fb678c0d708192baf3361bf1db02a705ff722e7e450649', content=[ResponseOutputText(annotations=[], text='{\"results\":[{\"term\":\"ティムコ\",\"location\":\"page 2, table\"},{\"term\":\"7501\",\"location\":\"page 2, table\"},{\"term\":\"ダイワ\",\"location\":\"not found\"},{\"term\":\"6121\",\"location\":\"not found\"}]}', type='output_text')], role='assistant', status='completed', type='message')], parallel_tool_calls=True, temperature=1.0, tool_choice='auto', tools=[], top_p=1.0, max_output_tokens=None, previous_response_id=None, reasoning=Reasoning(effort=None, generate_summary=None), status='completed', text=ResponseTextConfig(format=ResponseFormatTextJSONSchemaConfig(name='autoscan', schema_={'$defs': {'Result': {'additionalProperties': False, 'properties': {'term': {'description': 'the search term', 'title': 'Term', 'type': 'string'}, 'location': {'description': 'single location in the document where the term was found.', 'title': 'Location', 'type': 'string'}}, 'required': ['term', 'location'], 'title': 'Result', 'type': 'object'}}, 'additionalProperties': False, 'properties': {'results': {'description': 'list of search results', 'items': {'$ref': '#/$defs/Result'}, 'title': 'Results', 'type': 'array'}}, 'required': ['results'], 'title': 'AutoscanResults', 'type': 'object'}, type='json_schema', description=None, strict=True)), truncation='disabled', usage=ResponseUsage(input_tokens=2370, input_tokens_details=InputTokensDetails(cached_tokens=0), output_tokens=54, output_tokens_details=OutputTokensDetails(reasoning_tokens=0), total_tokens=2424), user=None, store=False)\n"
     ]
    }
   ],
   "source": [
    "print(response)"
   ]
  },
  {
   "cell_type": "markdown",
   "id": "3b2d12bd-1580-4194-aa1f-3d8d6c6ca4d3",
   "metadata": {},
   "source": [
    "----"
   ]
  },
  {
   "cell_type": "markdown",
   "id": "a41dc452-84d5-4654-9de9-3f92800b83a7",
   "metadata": {},
   "source": [
    "#### `autoscan` implemented with the legacy [Chat Completions API](https://platform.openai.com/docs/api-reference/chat)"
   ]
  },
  {
   "cell_type": "code",
   "execution_count": 13,
   "id": "05775892-29fc-4d5c-b2b3-b683b4c16cd3",
   "metadata": {},
   "outputs": [],
   "source": [
    "def autoscan_completions(client, model_name, filename, filedata, prompt):\n",
    "    completion = client.chat.completions.create(\n",
    "        model=model_name,\n",
    "\n",
    "        messages=[\n",
    "            {\n",
    "                \"role\": \"system\", \n",
    "                \"content\": SYSTEM_LEVEL_INSTRUCTION\n",
    "            },\n",
    "            {\n",
    "                \"role\": \"user\",\n",
    "                \"content\": [\n",
    "                    {\n",
    "                        \"type\": \"file\",\n",
    "                        \"file\": {\n",
    "                            \"filename\": filename,\n",
    "                            \"file_data\": f\"data:application/pdf;base64,{filedata}\"\n",
    "                        }\n",
    "                    },\n",
    "                    {\n",
    "                        \"type\": \"text\",\n",
    "                        \"text\": prompt,\n",
    "                    },\n",
    "                ]\n",
    "            }\n",
    "        ],\n",
    "\n",
    "        response_format={\n",
    "            \"type\": \"json_schema\",\n",
    "            \"json_schema\": {\n",
    "                \"name\": \"autoscan\",\n",
    "                \"schema\": results_schema,\n",
    "                \"strict\": True\n",
    "            }\n",
    "        },\n",
    "\n",
    "        store=False     \n",
    "    )\n",
    "    \n",
    "    return completion"
   ]
  },
  {
   "cell_type": "code",
   "execution_count": 14,
   "id": "bb444c51-831e-4887-8629-9aa5143fcf19",
   "metadata": {},
   "outputs": [
    {
     "name": "stdout",
     "output_type": "stream",
     "text": [
      "Autoscan results:\n",
      "- {'term': 'ティムコ', 'location': 'not found'}\n",
      "- {'term': '7501', 'location': 'not found'}\n",
      "- {'term': 'ダイワ', 'location': 'not found'}\n",
      "- {'term': '6121', 'location': 'not found'}\n",
      "CPU times: user 33.6 ms, sys: 5.43 ms, total: 39.1 ms\n",
      "Wall time: 1min 38s\n"
     ]
    }
   ],
   "source": [
    "%%time\n",
    "\n",
    "completion = autoscan_completions(client, model_name, \"sample_ppt.pdf\", base64_data, prompt)\n",
    "\n",
    "if completion.choices[0].message.refusal:\n",
    "    print(f\"ERROR: {completion.choices[0].message.refusal}\")\n",
    "else:\n",
    "    print(\"Autoscan results:\")\n",
    "    o = json.loads(completion.choices[0].message.content)\n",
    "    for result in o[\"results\"]:\n",
    "        print(f\"- {result}\")"
   ]
  },
  {
   "cell_type": "code",
   "execution_count": 15,
   "id": "f7f5fd06-f690-4839-81d7-b98aafca8eff",
   "metadata": {},
   "outputs": [
    {
     "name": "stdout",
     "output_type": "stream",
     "text": [
      "{'id': 'chatcmpl-BLm5wyXYiQTBNxxqoiQDIuzzwc6z5', 'choices': [{'finish_reason': 'stop', 'index': 0, 'logprobs': None, 'message': {'content': '{\"results\":[{\"term\":\"ティムコ\",\"location\":\"not found\"},{\"term\":\"7501\",\"location\":\"not found\"},{\"term\":\"ダイワ\",\"location\":\"not found\"},{\"term\":\"6121\",\"location\":\"not found\"}]}', 'refusal': None, 'role': 'assistant', 'annotations': []}}], 'created': 1744529464, 'model': 'gpt-4o-2024-08-06', 'object': 'chat.completion', 'service_tier': 'default', 'system_fingerprint': 'fp_92f14e8683', 'usage': {'completion_tokens': 48, 'prompt_tokens': 345, 'total_tokens': 393, 'completion_tokens_details': {'accepted_prediction_tokens': 0, 'audio_tokens': 0, 'reasoning_tokens': 0, 'rejected_prediction_tokens': 0}, 'prompt_tokens_details': {'audio_tokens': 0, 'cached_tokens': 0}}}\n"
     ]
    }
   ],
   "source": [
    "print(completion.to_dict())"
   ]
  },
  {
   "cell_type": "markdown",
   "id": "47659546-7ad3-478b-b3de-38af28185c48",
   "metadata": {},
   "source": [
    "### File clean-up"
   ]
  },
  {
   "cell_type": "code",
   "execution_count": 16,
   "id": "0acf6e4d-9868-4f68-8546-b9461d693972",
   "metadata": {},
   "outputs": [
    {
     "name": "stdout",
     "output_type": "stream",
     "text": [
      "Lastly, we clean up any files on OpenAI storage\n"
     ]
    }
   ],
   "source": [
    "print(\"Lastly, we clean up any files on OpenAI storage\")\n",
    "\n",
    "for f in client.files.list():\n",
    "    client.files.delete(f.id)"
   ]
  },
  {
   "cell_type": "code",
   "execution_count": 17,
   "id": "0f4f3242-e4fe-4862-b53f-fc325df8c07d",
   "metadata": {},
   "outputs": [
    {
     "name": "stdout",
     "output_type": "stream",
     "text": [
      "Any files left on OpenAI storage?\n"
     ]
    },
    {
     "data": {
      "text/plain": [
       "SyncCursorPage[FileObject](data=[], has_more=False, object='list', first_id=None, last_id=None)"
      ]
     },
     "execution_count": 17,
     "metadata": {},
     "output_type": "execute_result"
    }
   ],
   "source": [
    "print(\"Any files left on OpenAI storage?\")\n",
    "\n",
    "client.files.list()"
   ]
  },
  {
   "cell_type": "code",
   "execution_count": null,
   "id": "c4f1a5e1-6820-456d-aca4-841e619ba7a9",
   "metadata": {},
   "outputs": [],
   "source": []
  }
 ],
 "metadata": {
  "kernelspec": {
   "display_name": "Python 3 (ipykernel)",
   "language": "python",
   "name": "python3"
  },
  "language_info": {
   "codemirror_mode": {
    "name": "ipython",
    "version": 3
   },
   "file_extension": ".py",
   "mimetype": "text/x-python",
   "name": "python",
   "nbconvert_exporter": "python",
   "pygments_lexer": "ipython3",
   "version": "3.10.16"
  }
 },
 "nbformat": 4,
 "nbformat_minor": 5
}
