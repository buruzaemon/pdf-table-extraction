{
 "cells": [
  {
   "cell_type": "markdown",
   "id": "fcba3e79-7997-4ef4-8fe7-79e1e2160c20",
   "metadata": {},
   "source": [
    "# Sandbox: Google's Gemini\n",
    "\n",
    "## Gemini 2.0 Flash"
   ]
  },
  {
   "cell_type": "code",
   "execution_count": 1,
   "id": "a72b7999-e842-4007-bc29-0fb98d68d943",
   "metadata": {},
   "outputs": [],
   "source": [
    "import os\n",
    "\n",
    "GEMINI_API_KEY = os.environ[\"GEMINI_API_KEY\"]"
   ]
  },
  {
   "cell_type": "code",
   "execution_count": 2,
   "id": "bcc18bd1-78d4-4ecb-9e41-415cd32b40e3",
   "metadata": {},
   "outputs": [],
   "source": [
    "from google import genai\n",
    "\n",
    "# Create a client\n",
    "client = genai.Client(api_key=GEMINI_API_KEY)\n",
    "\n",
    "# Specify the model you are going to use\n",
    "model_id =  \"gemini-2.0-flash\" # or \"gemini-2.0-flash-lite-preview-02-05\"  , \"gemini-2.0-pro-exp-02-05\""
   ]
  },
  {
   "cell_type": "code",
   "execution_count": 3,
   "id": "1c812849-f813-41c2-b3aa-0f56eb8b6e96",
   "metadata": {},
   "outputs": [
    {
     "name": "stdout",
     "output_type": "stream",
     "text": [
      "File: Press_release_car_registrations_February_2025.pdf contains 1549 tokens\n"
     ]
    }
   ],
   "source": [
    "acea_202502 = client.files.upload(\n",
    "    file=\"samples/Press_release_car_registrations_February_2025.pdf\", \n",
    "    config={\n",
    "        'mime_type': 'application/pdf',\n",
    "        'display_name': 'Press_release_car_registrations_February_2025.pdf'\n",
    "    }\n",
    ")\n",
    "\n",
    "file_size = client.models.count_tokens(\n",
    "    model=model_id,\n",
    "    contents=acea_202502\n",
    ")\n",
    "\n",
    "print(f'File: {acea_202502.display_name} contains {file_size.total_tokens} tokens')"
   ]
  },
  {
   "cell_type": "code",
   "execution_count": 4,
   "id": "836d36de-0b4b-41f3-835b-59e33d717dc6",
   "metadata": {},
   "outputs": [
    {
     "name": "stdout",
     "output_type": "stream",
     "text": [
      "I'm sorry, I cannot fulfill that request. I am unable to access local computer files, so I cannot retrieve the file's metadata.\n",
      "\n",
      "CPU times: user 8.6 ms, sys: 225 μs, total: 8.83 ms\n",
      "Wall time: 4.12 s\n"
     ]
    }
   ],
   "source": [
    "%%time\n",
    "\n",
    "prompt=\"\"\"\n",
    "    You are an expert at working with files.\n",
    "\n",
    "    Please list all key-value pairs in the metadata of the given file.\n",
    "\n",
    "    DO NOT MAKE UP FICTITIOUS KEY NAMES OR VALUES!!!\n",
    "\"\"\" \n",
    "\n",
    "response = client.models.generate_content(\n",
    "    model=model_id,\n",
    "    contents=[acea_202502, prompt]\n",
    ")\n",
    "\n",
    "print(response.text)\n",
    "print()"
   ]
  },
  {
   "cell_type": "markdown",
   "id": "9f1391ad-8377-4603-a6fd-142faebcde22",
   "metadata": {},
   "source": [
    "## Clean-up!\n",
    "\n",
    "DO NOT FORGET TO REMOVE ANY FILES USED IN THIS SANDBOX!"
   ]
  },
  {
   "cell_type": "code",
   "execution_count": 5,
   "id": "522f6633-7272-4413-a453-07fbc41a3249",
   "metadata": {},
   "outputs": [],
   "source": [
    "# housekeeping...\n",
    "for f in client.files.list():\n",
    "    client.files.delete(name=f.name)"
   ]
  },
  {
   "cell_type": "code",
   "execution_count": null,
   "id": "c1a2d779-a299-4121-90bd-048f8bacca8c",
   "metadata": {},
   "outputs": [],
   "source": []
  }
 ],
 "metadata": {
  "kernelspec": {
   "display_name": "Python 3 (ipykernel)",
   "language": "python",
   "name": "python3"
  },
  "language_info": {
   "codemirror_mode": {
    "name": "ipython",
    "version": 3
   },
   "file_extension": ".py",
   "mimetype": "text/x-python",
   "name": "python",
   "nbconvert_exporter": "python",
   "pygments_lexer": "ipython3",
   "version": "3.10.16"
  }
 },
 "nbformat": 4,
 "nbformat_minor": 5
}
