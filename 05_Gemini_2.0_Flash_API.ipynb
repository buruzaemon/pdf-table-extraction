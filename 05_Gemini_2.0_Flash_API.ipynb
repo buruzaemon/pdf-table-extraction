{
 "cells": [
  {
   "cell_type": "markdown",
   "id": "c7fc6c11-1548-447a-ad54-6559a9e56a2f",
   "metadata": {},
   "source": [
    "# Google's Gemini 2.0 \n",
    "\n",
    "## ... this actually comes prior to extracting structured data??"
   ]
  },
  {
   "cell_type": "code",
   "execution_count": 1,
   "id": "f9c342da-ec3a-48f0-b279-5023bb0c2cc9",
   "metadata": {},
   "outputs": [],
   "source": [
    "import os\n",
    "\n",
    "GEMINI_API_KEY = os.environ[\"GEMINI_API_KEY\"]"
   ]
  },
  {
   "cell_type": "code",
   "execution_count": 2,
   "id": "e95f6e3d-da3e-4317-a579-0f63019a9e67",
   "metadata": {},
   "outputs": [],
   "source": [
    "from google import genai\n",
    "\n",
    "# Create a client\n",
    "client = genai.Client(api_key=GEMINI_API_KEY)\n",
    "\n",
    "# Define the model you are going to use\n",
    "model_id =  \"gemini-2.0-flash\" # or \"gemini-2.0-flash-lite-preview-02-05\"  , \"gemini-2.0-pro-exp-02-05\""
   ]
  },
  {
   "cell_type": "code",
   "execution_count": 3,
   "id": "46eff68d-9012-4bd9-809c-9d3890c8a4cf",
   "metadata": {},
   "outputs": [
    {
     "name": "stdout",
     "output_type": "stream",
     "text": [
      "File: saintmarc-hd_20250213.pdf contains 259 tokens\n",
      "File: saintmarc-hd_20250313.pdf contains 259 tokens\n",
      "File: Press_release_car_registrations_February_2025.pdf contains 1549 tokens\n"
     ]
    }
   ],
   "source": [
    "saintmarc_hd_20250213 = client.files.upload(\n",
    "    file=\"samples/saintmarc-hd_20250213.pdf\", \n",
    "    config={\n",
    "        'mime_type': 'application/pdf',\n",
    "        'display_name': 'saintmarc-hd_20250213.pdf'\n",
    "    }\n",
    ")\n",
    "\n",
    "saintmarc_hd_20250313 = client.files.upload(\n",
    "    file=\"samples/saintmarc-hd_20250313.pdf\", \n",
    "    config={\n",
    "        'mime_type': 'application/pdf',\n",
    "        'display_name': 'saintmarc-hd_20250313.pdf'\n",
    "    }\n",
    ")\n",
    "\n",
    "acea_202502 = client.files.upload(\n",
    "    file=\"samples/Press_release_car_registrations_February_2025.pdf\", \n",
    "    config={\n",
    "        'mime_type': 'application/pdf',\n",
    "        'display_name': 'Press_release_car_registrations_February_2025.pdf'\n",
    "    }\n",
    ")\n",
    "\n",
    "for uploaded_file in (saintmarc_hd_20250213, saintmarc_hd_20250313, acea_202502):\n",
    "    file_size = client.models.count_tokens(\n",
    "        model=model_id,\n",
    "        contents=uploaded_file\n",
    "    )\n",
    "\n",
    "    print(f'File: {uploaded_file.display_name} contains {file_size.total_tokens} tokens')"
   ]
  },
  {
   "cell_type": "markdown",
   "id": "79830ba1-4a46-4add-b325-349dd7b2fbb1",
   "metadata": {},
   "source": [
    "----"
   ]
  },
  {
   "cell_type": "markdown",
   "id": "1dd585a6-fd11-4877-8a80-9ab0605136b1",
   "metadata": {},
   "source": [
    "![ACEA Press Release, 2025-Feb](samples/Press_release_car_registrations_February_2025.pdf.png \"ACEA Press Release, 2025-Feb\")"
   ]
  },
  {
   "cell_type": "code",
   "execution_count": 4,
   "id": "03c8d9dd-0699-4db6-93b8-6ae71dd82cbf",
   "metadata": {},
   "outputs": [
    {
     "name": "stdout",
     "output_type": "stream",
     "text": [
      "Okay, I understand. Here's the extracted data from the \"NEW CAR REGISTRATIONS BY MARKET AND POWER SOURCE, MONTHLY\" table in the PDF, with the column structure and data as requested.\n",
      "\n",
      "|   | **BATTERY ELECTRIC** |   |   | **PLUG-IN HYBRID** |   |   | **HYBRID ELECTRIC¹** |   |   | **OTHERS²** |   |   | **PETROL** |   |   | **DIESEL** |   |   | **TOTAL** |   |   |\n",
      "|---|---|---|---|---|---|---|---|---|---|---|---|---|---|---|---|---|---|---|---|---|---|\n",
      "|   | February 2025 | February 2024 | % change 25/24 | February 2025 | February 2024 | % change 25/24 | February 2025 | February 2024 | % change 25/24 | February 2025 | February 2024 | % change 25/24 | February 2025 | February 2024 | % change 25/24 | February 2025 | February 2024 | % change 25/24 | February 2025 | February 2024 | % change 25/24 |\n",
      "| Austria | 4,233 | 3,322 | +27.4 | 1,613 | 1,335 | +20.8 | 5,549 | 4,691 | +18.3 | 0 | 0 |   | 5,736 | 6,527 | -12.1 | 2,488 | 4,135 | -39.8 | 19,619 | 20,010 | -2.0 |\n",
      "| Belgium | 13,040 | 9,385 | +38.9 | 3,070 | 8,385 | -63.4 | 5,383 | 4,282 | +25.7 | 267 | 415 | -35.7 | 17,280 | 18,918 | -8.7 | 1,121 | 2,337 | -52.0 | 40,161 | 43,722 | -8.1 |\n",
      "| Bulgaria | 126 | 122 | +3.3 | 34 | 31 | +9.7 | 105 | 73 | +43.8 | 0 | 0 |   | 2,781 | 2,868 | -3.0 | 348 | 510 | -31.8 | 3,394 | 3,604 | -5.8 |\n",
      "| Croatia | 53 | 50 | +6.0 | 140 | 94 | +48.9 | 1,629 | 1,455 | +12.0 | 101 | 110 | -8.2 | 1,644 | 1,898 | -13.4 | 678 | 923 | -26.5 | 4,245 | 4,530 | -6.3 |\n",
      "| Cyprus | 107 | 105 | +1.9 | 78 | 48 | +62.5 | 579 | 609 | -4.9 | 0 | 0 |   | 456 | 712 | -36.0 | 64 | 27 | +137.0 | 1,284 | 1,501 | -14.5 |\n",
      "| Czechia | 737 | 438 | +68.3 | 557 | 450 | +23.8 | 3,634 | 3,577 | +1.6 | 470 | 579 | -18.8 | 8,844 | 9,723 | -9.0 | 3,531 | 3,561 | -0.8 | 17,773 | 18,328 | -3.0 |\n",
      "| Denmark | 7,724 | 4,974 | +55.3 | 312 | 525 | -40.6 | 1,453 | 1,941 | -25.1 | 0 | 0 |   | 1,908 | 3,415 | -44.1 | 220 | 363 | -39.4 | 11,617 | 11,218 | +3.6 |\n",
      "| Estonia | 59 | 89 | -33.7 | 69 | 59 | +16.9 | 307 | 609 | -49.6 | 0 | 9 | -100.0 | 132 | 430 | -69.3 | 57 | 244 | -76.6 | 624 | 1,440 | -56.7 |\n",
      "| Finland | 1,563 | 1,330 | +17.5 | 1,035 | 1,237 | -16.3 | 1,398 | 1,735 | -19.4 | 0 | 39 | -100.0 | 598 | 736 | -18.8 | 190 | 297 | -36.0 | 4,784 | 5,374 | -11.0 |\n",
      "| France | 25,335 | 25,825 | -1.9 | 6,451 | 11,732 | -45.0 | 62,146 | 41,227 | +50.7 | 5,821 | 5,495 | +5.9 | 35,110 | 48,095 | -27.0 | 6,707 | 10,221 | -34.4 | 141,570 | 142,595 | -0.7 |\n",
      "| Germany | 35,949 | 27,479 | +30.8 | 19,534 | 14,575 | +34.0 | 58,153 | 54,792 | +6.1 | 771 | 1,283 | -39.9 | 56,911 | 77,106 | -26.2 | 32,116 | 42,153 | -23.8 | 203,434 | 217,388 | -6.4 |\n",
      "| Greece | 718 | 581 | +23.6 | 610 | 525 | +16.2 | 5,002 | 4,445 | +12.5 | 136 | 148 | -8.1 | 3,116 | 4,472 | -30.3 | 236 | 1,280 | -81.6 | 9,818 | 11,451 | -14.3 |\n",
      "| Hungary | 690 | 741 | -6.9 | 385 | 545 | -29.4 | 5,589 | 5,058 | +10.5 | 42 | 7 | +500.0 | 2,428 | 3,280 | -26.0 | 1,441 | 1,110 | +29.8 | 10,575 | 10,741 | -1.5 |\n",
      "| Ireland | 2,512 | 1,856 | +35.3 | 2,100 | 1,420 | +47.9 | 3,137 | 2,940 | +6.7 | 0 | 0 |   | 3,776 | 5,671 | -33.4 | 2,444 | 4,545 | -46.2 | 13,969 | 16,432 | -15.0 |\n",
      "| Italy | 6,922 | 5,007 | +38.2 | 6,131 | 4,598 | +33.3 | 61,196 | 55,537 | +10.2 | 13,690 | 14,595 | -6.2 | 36,404 | 45,966 | -20.8 | 13,677 | 21,499 | -36.4 | 138,020 | 147,202 | -6.2 |\n",
      "| Latvia | 80 | 78 | +2.6 | 134 | 28 | +378.6 | 0 | 0 |   | 18 | 36 | -50.0 | 885 | 794 | +11.5 | 281 | 282 | -0.4 | 1,398 | 1,218 | +14.8 |\n",
      "| Lithuania | 101 | 108 | -6.5 | 209 | 103 | +102.9 | 1,284 | 954 | +34.6 | 28 | 39 | -28.2 | 415 | 606 | -31.5 | 494 | 204 | +142.2 | 2,531 | 2,014 | +25.7 |\n",
      "| Luxembourg | 1,134 | 942 | +20.4 | 291 | 385 | -24.4 | 1,196 | 1,002 | +19.4 | 0 | 0 |   | 1,054 | 1,377 | -23.5 | 436 | 581 | -25.0 | 4,111 | 4,287 | -4.1 |\n",
      "| Malta | 46 | 260 | -82.3 | 27 | 58 | -53.4 | 98 | 124 | -21.0 | 0 | 0 |   | 118 | 199 | -40.7 | 14 | 16 | -12.5 | 303 | 657 | -53.9 |\n",
      "| Netherlands | 10,174 | 8,315 | +22.4 | 4,376 | 4,304 | +1.7 | 8,122 | 9,007 | -9.8 | 48 | 245 | -80.4 | 4,781 | 8,197 | -41.7 | 319 | 264 | +20.8 | 27,820 | 30,332 | -8.3 |\n",
      "| Poland | 1,675 | 1,370 | +22.3 | 1,887 | 1,301 | +45.0 | 23,470 | 21,506 | +9.1 | 1,095 | 1,273 | -14.0 | 13,390 | 17,014 | -21.3 | 3,278 | 3,509 | -6.6 | 44,795 | 45,973 | -2.6 |\n",
      "| Portugal | 3,946 | 3,191 | +23.7 | 2,093 | 2,394 | -12.6 | 4,974 | 2,821 | +76.3 | 1,702 | 1,542 | +10.4 | 5,751 | 9,041 | -36.4 | 997 | 1,523 | -34.5 | 19,463 | 20,512 | -5.1 |\n",
      "| Romania | 724 | 1,109 | -34.7 |   |   |   | 5,510 | 3,736 | +47.5 | 1,354 | 953 | +42.1 | 3,007 | 3,729 | -19.4 | 1,255 | 1,812 | -30.7 | 11,850 | 11,339 | +4.5 |\n",
      "| Slovakia | 276 | 190 | +45.3 | 240 | 167 | +43.7 | 1,992 | 2,313 | -13.9 | 143 | 139 | +2.9 | 2,526 | 3,692 | -31.6 | 1,028 | 1,201 | -14.4 | 6,205 | 7,702 | -19.4 |\n",
      "| Slovenia | 367 | 278 | +32.0 | 187 | 104 | +79.8 | 416 | 472 | -11.9 | 52 | 33 | +57.6 | 2,539 | 2,591 | -2.0 | 811 | 670 | +21.0 | 4,372 | 4,148 | +5.4 |\n",
      "| Spain | 6,112 | 3,806 | +60.6 | 6,901 | 5,562 | +24.1 | 39,798 | 28,631 | +39.0 | 4,380 | 2,417 | +81.2 | 27,980 | 32,659 | -14.3 | 5,156 | 8,275 | -37.7 | 90,327 | 81,350 | +11.0 |\n",
      "| Sweden | 6,872 | 5,215 | +31.8 | 5,106 | 4,510 | +13.2 | 1,942 | 1,906 | +1.9 | 3 | 767 | -99.6 | 4,503 | 4,788 | -6.0 | 1,182 | 1,584 | -25.4 | 19,608 | 18,770 | +4.5 |\n",
      "| EUROPEAN UNION | 131,275 | 106,166 | +23.7 | 63,570 | 64,475 | -1.4 | 304,062 | 255,443 | +19.0 | 30,121 | 30,124 | -0.0 | 244,073 | 314,504 | -22.4 | 80,569 | 113,126 | -28.8 | 853,670 | 883,838 | -3.4 |\n",
      "| Iceland | 248 | 97 | +155.7 | 104 | 96 | +8.3 | 199 | 95 | +109.5 | 0 | 0 |   | 43 | 26 | +65.4 | 61 | 83 | -26.5 | 655 | 397 | +65.0 |\n",
      "| Norway | 8,477 | 6,043 | +40.3 | 136 | 122 | +11.5 | 154 | 259 | -40.5 | 0 | 0 |   | 37 | 64 | -42.2 | 145 | 189 | -23.3 | 8,949 | 6,677 | +34.0 |\n",
      "| Switzerland | 3,402 | 3,295 | +3.2 | 1,462 | 1,753 | -16.6 | 6,000 | 5,780 | +3.8 | 3 | 3 | +0.0 | 4,071 | 5,959 | -31.7 | 1,274 | 1,731 | -26.4 | 16,212 | 18,521 | -12.5 |\n",
      "| EFTA | 12,127 | 9,435 | +28.5 | 1,702 | 1,971 | -13.6 | 6,353 | 6,134 | +3.6 | 3 | 3 | +0.0 | 4,151 | 6,049 | -31.4 | 1,480 | 2,003 | -26.1 | 25,816 | 25,595 | +0.9 |\n",
      "| United Kingdom | 21,244 | 14,991 | +41.7 | 7,273 | 6,098 | +19.3 | 29,849 | 26,140 | +14.2 | 0 | 0 |   | 22,986 | 34,579 | -33.5 | 2,702 | 3,078 | -12.2 | 84,054 | 84,886 | -1.0 |\n",
      "| EU + EFTA + UK | 164,646 | 130,592 | +26.1 | 72,545 | 72,544 | +0.0 | 340,264 | 287,717 | +18.3 | 30,124 | 30,127 | -0.0 | 271,210 | 355,132 | -23.6 | 84,751 | 118,207 | -28.3 | 963,540 | 994,319 | -3.1 |\n",
      "\n",
      "**Note:**\n",
      "\n",
      "*   ¹ Includes full and mild hybrids\n",
      "*   ² Includes fuel-cell electric vehicles, natural gas vehicles, LPG, E85/ethanol, and other fuels\n",
      "*   Where there were empty values in the original table, I have represented them as blank cells in this table. I have used spaces for empty % change values.\n",
      "\n",
      "\n",
      "CPU times: user 8.06 ms, sys: 61 μs, total: 8.12 ms\n",
      "Wall time: 24.3 s\n"
     ]
    }
   ],
   "source": [
    "%%time\n",
    "\n",
    "prompt=\"\"\"\n",
    "    You are an expert at locating tabular data in PDFs and extracting the exact information from all parts of a table, \n",
    "    such as the row and column headers, and table cells. You always understand the layout of a table, and know how to return empty values.\n",
    "\n",
    "    Extract the entire contents of the NEW CAR REGISTRATIONS BY MARKET AND POWER SOURCE, MONTHLY table in the given PDF.\n",
    "\n",
    "    The column headers are 2-level.\n",
    "    The top-most column header is one of: BATTERY ELECTRIC, PLUG-IN HYBRID, HYBRID ELECTRIC, OTHERS, PETROL, DIESEL and TOTAL\n",
    "    The second-level column headers comprise: current month for current year, current month for previous year, and % change year-on-year.\n",
    "\n",
    "    Make sure that for the rows that start with a country or geopolitical entity, there are exactly 21 values.\n",
    "\n",
    "    For example, a section of three empty values might look like |   |   |   |\n",
    "\"\"\"\n",
    "\n",
    "response = client.models.generate_content(\n",
    "    model=model_id,\n",
    "    contents=[acea_202502, prompt],\n",
    "    config=genai.types.GenerateContentConfig(\n",
    "        seed=777\n",
    "    )\n",
    ")\n",
    "\n",
    "print(response.text)\n",
    "print()"
   ]
  },
  {
   "cell_type": "code",
   "execution_count": null,
   "id": "e3d07831-ba24-4150-8ebe-460e75f5f4d2",
   "metadata": {},
   "outputs": [],
   "source": []
  },
  {
   "cell_type": "code",
   "execution_count": null,
   "id": "60bbe092-8c1f-4536-a7bc-027b71b10505",
   "metadata": {},
   "outputs": [],
   "source": []
  },
  {
   "cell_type": "code",
   "execution_count": null,
   "id": "12da0010-4c32-49c0-ace5-a9bf73673495",
   "metadata": {},
   "outputs": [],
   "source": []
  },
  {
   "cell_type": "code",
   "execution_count": null,
   "id": "cb1bf7a8-857c-4c23-8bb8-c73bc92f9962",
   "metadata": {},
   "outputs": [],
   "source": []
  },
  {
   "cell_type": "markdown",
   "id": "cf3b02ed-a9a8-4cd5-b861-ec149a88a018",
   "metadata": {},
   "source": [
    "----"
   ]
  },
  {
   "cell_type": "code",
   "execution_count": 5,
   "id": "e871c1a3-87ae-4b2a-8742-252e236f372e",
   "metadata": {},
   "outputs": [],
   "source": [
    "import pandas as pd\n",
    "\n",
    "# filter out any lines that do not pertain to the markdown-flavored table rows...\n",
    "lines = [l for l in response.text.split('\\n') if '|' in l.strip()]\n",
    "\n",
    "# gather the data into a DataFrame...\n",
    "acc = []\n",
    "for l in lines[3:]:\n",
    "    acc.append([v.strip() for v in l.split('|')][1:-1])\n",
    "df = pd.DataFrame(acc)\n",
    "#df\n",
    "\n",
    "# build up the row headers (country / geopolitical entity)...\n",
    "row_headers = df.iloc[:,0].values.tolist()\n",
    "#row_headers\n",
    "\n",
    "# build up the 2-level column headers...\n",
    "col_level_0 = [v.strip() for v in lines[0].split('|') if len(v.strip()) > 0]\n",
    "col_level_0 = [[v]*3 for v in col_level_0]\n",
    "col_level_0 = [e for sublist in col_level_0 for e in sublist]\n",
    "#col_level_0\n",
    "\n",
    "col_level_1 = [v.strip() for v in lines[2].split('|') if len(v.strip()) > 0][:3]*7\n",
    "#col_level_1\n",
    "\n",
    "col_multi = pd.MultiIndex.from_tuples(zip(col_level_0, col_level_1))\n",
    "\n",
    "# finally, create a nice & clean copy of the target table!\n",
    "df = df.iloc[:,1:].copy()\n",
    "df.index = row_headers\n",
    "df.columns = col_multi"
   ]
  },
  {
   "cell_type": "code",
   "execution_count": 6,
   "id": "43909e9d-71be-47b6-9bc4-acee1a5d8a6e",
   "metadata": {},
   "outputs": [
    {
     "data": {
      "text/html": [
       "<div>\n",
       "<style scoped>\n",
       "    .dataframe tbody tr th:only-of-type {\n",
       "        vertical-align: middle;\n",
       "    }\n",
       "\n",
       "    .dataframe tbody tr th {\n",
       "        vertical-align: top;\n",
       "    }\n",
       "\n",
       "    .dataframe thead tr th {\n",
       "        text-align: left;\n",
       "    }\n",
       "</style>\n",
       "<table border=\"1\" class=\"dataframe\">\n",
       "  <thead>\n",
       "    <tr>\n",
       "      <th></th>\n",
       "      <th colspan=\"3\" halign=\"left\">**BATTERY ELECTRIC**</th>\n",
       "      <th colspan=\"3\" halign=\"left\">**PLUG-IN HYBRID**</th>\n",
       "      <th colspan=\"3\" halign=\"left\">**HYBRID ELECTRIC¹**</th>\n",
       "      <th colspan=\"3\" halign=\"left\">**OTHERS²**</th>\n",
       "      <th colspan=\"3\" halign=\"left\">**PETROL**</th>\n",
       "      <th colspan=\"3\" halign=\"left\">**DIESEL**</th>\n",
       "      <th colspan=\"3\" halign=\"left\">**TOTAL**</th>\n",
       "    </tr>\n",
       "    <tr>\n",
       "      <th></th>\n",
       "      <th>February 2025</th>\n",
       "      <th>February 2024</th>\n",
       "      <th>% change 25/24</th>\n",
       "      <th>February 2025</th>\n",
       "      <th>February 2024</th>\n",
       "      <th>% change 25/24</th>\n",
       "      <th>February 2025</th>\n",
       "      <th>February 2024</th>\n",
       "      <th>% change 25/24</th>\n",
       "      <th>February 2025</th>\n",
       "      <th>...</th>\n",
       "      <th>% change 25/24</th>\n",
       "      <th>February 2025</th>\n",
       "      <th>February 2024</th>\n",
       "      <th>% change 25/24</th>\n",
       "      <th>February 2025</th>\n",
       "      <th>February 2024</th>\n",
       "      <th>% change 25/24</th>\n",
       "      <th>February 2025</th>\n",
       "      <th>February 2024</th>\n",
       "      <th>% change 25/24</th>\n",
       "    </tr>\n",
       "  </thead>\n",
       "  <tbody>\n",
       "    <tr>\n",
       "      <th>Austria</th>\n",
       "      <td>4,233</td>\n",
       "      <td>3,322</td>\n",
       "      <td>+27.4</td>\n",
       "      <td>1,613</td>\n",
       "      <td>1,335</td>\n",
       "      <td>+20.8</td>\n",
       "      <td>5,549</td>\n",
       "      <td>4,691</td>\n",
       "      <td>+18.3</td>\n",
       "      <td>0</td>\n",
       "      <td>...</td>\n",
       "      <td></td>\n",
       "      <td>5,736</td>\n",
       "      <td>6,527</td>\n",
       "      <td>-12.1</td>\n",
       "      <td>2,488</td>\n",
       "      <td>4,135</td>\n",
       "      <td>-39.8</td>\n",
       "      <td>19,619</td>\n",
       "      <td>20,010</td>\n",
       "      <td>-2.0</td>\n",
       "    </tr>\n",
       "    <tr>\n",
       "      <th>Belgium</th>\n",
       "      <td>13,040</td>\n",
       "      <td>9,385</td>\n",
       "      <td>+38.9</td>\n",
       "      <td>3,070</td>\n",
       "      <td>8,385</td>\n",
       "      <td>-63.4</td>\n",
       "      <td>5,383</td>\n",
       "      <td>4,282</td>\n",
       "      <td>+25.7</td>\n",
       "      <td>267</td>\n",
       "      <td>...</td>\n",
       "      <td>-35.7</td>\n",
       "      <td>17,280</td>\n",
       "      <td>18,918</td>\n",
       "      <td>-8.7</td>\n",
       "      <td>1,121</td>\n",
       "      <td>2,337</td>\n",
       "      <td>-52.0</td>\n",
       "      <td>40,161</td>\n",
       "      <td>43,722</td>\n",
       "      <td>-8.1</td>\n",
       "    </tr>\n",
       "    <tr>\n",
       "      <th>Bulgaria</th>\n",
       "      <td>126</td>\n",
       "      <td>122</td>\n",
       "      <td>+3.3</td>\n",
       "      <td>34</td>\n",
       "      <td>31</td>\n",
       "      <td>+9.7</td>\n",
       "      <td>105</td>\n",
       "      <td>73</td>\n",
       "      <td>+43.8</td>\n",
       "      <td>0</td>\n",
       "      <td>...</td>\n",
       "      <td></td>\n",
       "      <td>2,781</td>\n",
       "      <td>2,868</td>\n",
       "      <td>-3.0</td>\n",
       "      <td>348</td>\n",
       "      <td>510</td>\n",
       "      <td>-31.8</td>\n",
       "      <td>3,394</td>\n",
       "      <td>3,604</td>\n",
       "      <td>-5.8</td>\n",
       "    </tr>\n",
       "    <tr>\n",
       "      <th>Croatia</th>\n",
       "      <td>53</td>\n",
       "      <td>50</td>\n",
       "      <td>+6.0</td>\n",
       "      <td>140</td>\n",
       "      <td>94</td>\n",
       "      <td>+48.9</td>\n",
       "      <td>1,629</td>\n",
       "      <td>1,455</td>\n",
       "      <td>+12.0</td>\n",
       "      <td>101</td>\n",
       "      <td>...</td>\n",
       "      <td>-8.2</td>\n",
       "      <td>1,644</td>\n",
       "      <td>1,898</td>\n",
       "      <td>-13.4</td>\n",
       "      <td>678</td>\n",
       "      <td>923</td>\n",
       "      <td>-26.5</td>\n",
       "      <td>4,245</td>\n",
       "      <td>4,530</td>\n",
       "      <td>-6.3</td>\n",
       "    </tr>\n",
       "    <tr>\n",
       "      <th>Cyprus</th>\n",
       "      <td>107</td>\n",
       "      <td>105</td>\n",
       "      <td>+1.9</td>\n",
       "      <td>78</td>\n",
       "      <td>48</td>\n",
       "      <td>+62.5</td>\n",
       "      <td>579</td>\n",
       "      <td>609</td>\n",
       "      <td>-4.9</td>\n",
       "      <td>0</td>\n",
       "      <td>...</td>\n",
       "      <td></td>\n",
       "      <td>456</td>\n",
       "      <td>712</td>\n",
       "      <td>-36.0</td>\n",
       "      <td>64</td>\n",
       "      <td>27</td>\n",
       "      <td>+137.0</td>\n",
       "      <td>1,284</td>\n",
       "      <td>1,501</td>\n",
       "      <td>-14.5</td>\n",
       "    </tr>\n",
       "  </tbody>\n",
       "</table>\n",
       "<p>5 rows × 21 columns</p>\n",
       "</div>"
      ],
      "text/plain": [
       "         **BATTERY ELECTRIC**                              **PLUG-IN HYBRID**  \\\n",
       "                February 2025 February 2024 % change 25/24      February 2025   \n",
       "Austria                 4,233         3,322          +27.4              1,613   \n",
       "Belgium                13,040         9,385          +38.9              3,070   \n",
       "Bulgaria                  126           122           +3.3                 34   \n",
       "Croatia                    53            50           +6.0                140   \n",
       "Cyprus                    107           105           +1.9                 78   \n",
       "\n",
       "                                      **HYBRID ELECTRIC¹**                \\\n",
       "         February 2024 % change 25/24        February 2025 February 2024   \n",
       "Austria          1,335          +20.8                5,549         4,691   \n",
       "Belgium          8,385          -63.4                5,383         4,282   \n",
       "Bulgaria            31           +9.7                  105            73   \n",
       "Croatia             94          +48.9                1,629         1,455   \n",
       "Cyprus              48          +62.5                  579           609   \n",
       "\n",
       "                          **OTHERS²**  ...                   **PETROL**  \\\n",
       "         % change 25/24 February 2025  ... % change 25/24 February 2025   \n",
       "Austria           +18.3             0  ...                        5,736   \n",
       "Belgium           +25.7           267  ...          -35.7        17,280   \n",
       "Bulgaria          +43.8             0  ...                        2,781   \n",
       "Croatia           +12.0           101  ...           -8.2         1,644   \n",
       "Cyprus             -4.9             0  ...                          456   \n",
       "\n",
       "                                         **DIESEL**                \\\n",
       "         February 2024 % change 25/24 February 2025 February 2024   \n",
       "Austria          6,527          -12.1         2,488         4,135   \n",
       "Belgium         18,918           -8.7         1,121         2,337   \n",
       "Bulgaria         2,868           -3.0           348           510   \n",
       "Croatia          1,898          -13.4           678           923   \n",
       "Cyprus             712          -36.0            64            27   \n",
       "\n",
       "                            **TOTAL**                               \n",
       "         % change 25/24 February 2025 February 2024 % change 25/24  \n",
       "Austria           -39.8        19,619        20,010           -2.0  \n",
       "Belgium           -52.0        40,161        43,722           -8.1  \n",
       "Bulgaria          -31.8         3,394         3,604           -5.8  \n",
       "Croatia           -26.5         4,245         4,530           -6.3  \n",
       "Cyprus           +137.0         1,284         1,501          -14.5  \n",
       "\n",
       "[5 rows x 21 columns]"
      ]
     },
     "execution_count": 6,
     "metadata": {},
     "output_type": "execute_result"
    }
   ],
   "source": [
    "df.head()"
   ]
  },
  {
   "cell_type": "code",
   "execution_count": 7,
   "id": "eb582545-e130-4e05-af75-cf96ff73f363",
   "metadata": {},
   "outputs": [
    {
     "data": {
      "text/plain": [
       "**BATTERY ELECTRIC**  February 2025        724\n",
       "                      February 2024      1,109\n",
       "                      % change 25/24     -34.7\n",
       "**PLUG-IN HYBRID**    February 2025           \n",
       "                      February 2024           \n",
       "                      % change 25/24          \n",
       "**HYBRID ELECTRIC¹**  February 2025      5,510\n",
       "                      February 2024      3,736\n",
       "                      % change 25/24     +47.5\n",
       "**OTHERS²**           February 2025      1,354\n",
       "                      February 2024        953\n",
       "                      % change 25/24     +42.1\n",
       "**PETROL**            February 2025      3,007\n",
       "                      February 2024      3,729\n",
       "                      % change 25/24     -19.4\n",
       "**DIESEL**            February 2025      1,255\n",
       "                      February 2024      1,812\n",
       "                      % change 25/24     -30.7\n",
       "**TOTAL**             February 2025     11,850\n",
       "                      February 2024     11,339\n",
       "                      % change 25/24      +4.5\n",
       "Name: Romania, dtype: object"
      ]
     },
     "execution_count": 7,
     "metadata": {},
     "output_type": "execute_result"
    }
   ],
   "source": [
    "#df.loc['Austria']\n",
    "#df.loc['Bulgaria']\n",
    "#df.loc['Cyprus']\n",
    "#df.loc['Denmark']\n",
    "#df.loc['Ireland']\n",
    "#df.loc['latvia']\n",
    "#df.loc['Luxembourg']\n",
    "#df.loc['Malta']\n",
    "df.loc['Romania']\n",
    "#df.loc['Iceland']\n",
    "#df.loc['Norway']\n",
    "#df.loc['United Kingdom']"
   ]
  },
  {
   "cell_type": "markdown",
   "id": "a2a9a827-d70b-4c28-9036-c5ca5a65c5b4",
   "metadata": {},
   "source": [
    "----"
   ]
  },
  {
   "cell_type": "code",
   "execution_count": 8,
   "id": "67f8ff3c-2f50-4144-8f56-99a9e45bfef8",
   "metadata": {},
   "outputs": [],
   "source": [
    "import pandas as pd"
   ]
  },
  {
   "cell_type": "code",
   "execution_count": 9,
   "id": "3a588446-c8d9-405e-9c49-93f97995a289",
   "metadata": {},
   "outputs": [],
   "source": [
    "from pydantic import BaseModel, Field\n",
    "\n",
    "class TidyRow(BaseModel):\n",
    "    \"\"\" Model for a tidy row of the tabular data in the Saint-marc HD PDF \"\"\"\n",
    "\n",
    "    year: str = Field(description=\"This field is the yyyy value from the 年度 column\")\n",
    "\n",
    "    month: str = Field(description=(\n",
    "        \"This field may takes one of 15 values from the column headers: \"\n",
    "        \"1月, 2月, 3月, 4月, 5月, 6月, 7月, 8月, 9月, 10月, 11月, 12月, 下期, 上期, 通期.\"\n",
    "    ))\n",
    "    #month: str = Field(description=(\n",
    "    #    \"This field may takes one of 15 values from the column headers: \"\n",
    "    #    \"1月, 2月, 3月, 4月, 5月, 6月, 7月, 8月, 9月, 10月, 11月, 12月, 下期, 上期, 通期. \"\n",
    "    #    \"Please remove any 月 characters. Also please replace 下半期 with 下期, and 上半期 with 上期\"\n",
    "    #))\n",
    "\n",
    "    cat1: str = Field(description=\"This field is always 月次売上情報\")\n",
    "    \n",
    "    cat2: str = Field(description=\"This field is always 昨年対比\")\n",
    "    \n",
    "    cat3: str = Field(description=\"This field has a value that is either 全店 or 既存店\")\n",
    "    \n",
    "    value: str = Field(description=(\n",
    "        \"This field holds the table cell value, which is a floating point number \"\n",
    "        \"with exactly one decimal place, or it is a whitespace indicating a blank value\"\n",
    "    ))\n",
    "    #value: str = Field(description=(\n",
    "    #    \"This field holds the table cell value, which is a floating point number \"\n",
    "    #    \"with exactly one decimal place. Please divide this by 100.00, \"\n",
    "    #    \"and show this new floating point to 3 decimal places.\"\n",
    "    #))\n",
    "\n",
    "class TidyData(BaseModel):\n",
    "    data: list[TidyRow] = Field(description=\"The list of TidyRow with year, month, cat1, cat2, cat3, and value fields\")"
   ]
  },
  {
   "cell_type": "code",
   "execution_count": 10,
   "id": "40cfef43-14eb-4eea-8715-d5ec9782b89f",
   "metadata": {},
   "outputs": [],
   "source": [
    "def extract_structured_data(the_file: genai.types.File, model: BaseModel):\n",
    "    \n",
    "    # Generate a structured response using the Gemini API\n",
    "    prompt = f\"Extract the table from page 3 in the following PDF file in ACEATidyData format\"\n",
    "    response = client.models.generate_content(\n",
    "        model=model_id, \n",
    "        contents=[prompt, the_file], \n",
    "        config={\n",
    "            'response_mime_type': 'application/json', \n",
    "            'response_schema': model\n",
    "    })\n",
    "    \n",
    "    # Convert the response to the pydantic model and return it\n",
    "    return response.parsed"
   ]
  },
  {
   "cell_type": "markdown",
   "id": "a2a9abc5-edb1-4090-b8da-44500630c831",
   "metadata": {},
   "source": [
    "<hr width=40%/>"
   ]
  },
  {
   "cell_type": "markdown",
   "id": "498d7caa-63ea-4030-8e36-7f7ef8b78765",
   "metadata": {},
   "source": [
    "![Saint-marc HD PDF for 2025-Feb 月次売上情報](samples/saintmarc-hd_20250213.pdf.png \"Saint-marc HD PDF for 2025-Feb 月次売上情報\")"
   ]
  },
  {
   "cell_type": "code",
   "execution_count": 11,
   "id": "f79f12b9-e51c-4481-b2d1-bf9dca064d69",
   "metadata": {},
   "outputs": [
    {
     "name": "stdout",
     "output_type": "stream",
     "text": [
      "CPU times: user 10.7 ms, sys: 0 ns, total: 10.7 ms\n",
      "Wall time: 24.7 s\n"
     ]
    }
   ],
   "source": [
    "%%time\n",
    "\n",
    "# let's try the Saint-marc HD 20250213 PDF: this is the relatively clean table\n",
    "# ... text \n",
    "tidy_data = extract_structured_data(saintmarc_hd_20250213, TidyData)\n",
    "\n",
    "smhd_202502_df = pd.DataFrame(tidy_data.model_dump()['data'])"
   ]
  },
  {
   "cell_type": "code",
   "execution_count": 12,
   "id": "d9aa63c9-e6d4-4054-bb09-cb25e29f7268",
   "metadata": {},
   "outputs": [
    {
     "name": "stdout",
     "output_type": "stream",
     "text": [
      "(78, 6)\n",
      "\n",
      "    year month    cat1  cat2 cat3  value\n",
      "28  2024    4月  月次売上情報  昨年対比   全店  102.6\n",
      "29  2024    5月  月次売上情報  昨年対比   全店  102.4\n",
      "30  2024    6月  月次売上情報  昨年対比   全店  109.9\n",
      "31  2024    7月  月次売上情報  昨年対比   全店  100.7\n",
      "32  2024    8月  月次売上情報  昨年対比   全店  106.6\n",
      "33  2024    9月  月次売上情報  昨年対比   全店  105.6\n",
      "34  2024   上半期  月次売上情報  昨年対比   全店  104.6\n",
      "35  2024   10月  月次売上情報  昨年対比   全店   98.8\n",
      "36  2024   11月  月次売上情報  昨年対比   全店  104.5\n",
      "37  2024   12月  月次売上情報  昨年対比   全店  101.8\n",
      "38  2024    1月  月次売上情報  昨年対比   全店  101.2\n",
      "39  2022    4月  月次売上情報  昨年対比  既存店  115.1\n",
      "40  2022    5月  月次売上情報  昨年対比  既存店  126.0\n",
      "41  2022    6月  月次売上情報  昨年対比  既存店  122.8\n",
      "42  2022    7月  月次売上情報  昨年対比  既存店  111.5\n"
     ]
    }
   ],
   "source": [
    "# we expect 84 - 6 = 78 values in the tidy data\n",
    "print(smhd_202502_df.shape)\n",
    "print(f\"\\n{smhd_202502_df.iloc[28:43]}\")"
   ]
  },
  {
   "cell_type": "markdown",
   "id": "701c3b3c-2197-4585-84bb-69d709f3eb20",
   "metadata": {},
   "source": [
    "<hr width=40%/>"
   ]
  },
  {
   "cell_type": "markdown",
   "id": "d9156761-a0ff-4658-9771-1a46f909dcff",
   "metadata": {},
   "source": [
    "![Saint-marc HD PDF for 2025-Mar 月次売上情報](samples/saintmarc-hd_20250313.pdf.png \"Saint-marc HD PDF for 2025-Mar 月次売上情報\")"
   ]
  },
  {
   "cell_type": "code",
   "execution_count": 13,
   "id": "2154277c-9dc0-4753-9ff3-c48626be2b06",
   "metadata": {},
   "outputs": [
    {
     "name": "stdout",
     "output_type": "stream",
     "text": [
      "CPU times: user 4.81 ms, sys: 3.87 ms, total: 8.68 ms\n",
      "Wall time: 25.5 s\n"
     ]
    }
   ],
   "source": [
    "%%time\n",
    "\n",
    "# let's try the Saint-marc HD 20250313 PDF: this is the PDF created from an image file\n",
    "# ... image file, no text!\n",
    "tidy_data = extract_structured_data(saintmarc_hd_20250313, TidyData)\n",
    "\n",
    "smhd_202503_df = pd.DataFrame(tidy_data.model_dump()['data'])"
   ]
  },
  {
   "cell_type": "code",
   "execution_count": 14,
   "id": "80859181-f112-41a6-a86b-a63620724cad",
   "metadata": {},
   "outputs": [
    {
     "name": "stdout",
     "output_type": "stream",
     "text": [
      "(80, 6)\n",
      "\n",
      "    year month    cat1  cat2 cat3  value\n",
      "68  2024    4月  月次売上情報  昨年対比  既存店  107.1\n",
      "69  2024    5月  月次売上情報  昨年対比  既存店  106.3\n",
      "70  2024    6月  月次売上情報  昨年対比  既存店  113.9\n",
      "71  2024    7月  月次売上情報  昨年対比  既存店  105.2\n",
      "72  2024    8月  月次売上情報  昨年対比  既存店  110.5\n",
      "73  2024    9月  月次売上情報  昨年対比  既存店  110.3\n",
      "74  2024   上半期  月次売上情報  昨年対比  既存店  108.8\n",
      "75  2024   10月  月次売上情報  昨年対比  既存店  103.8\n",
      "76  2024   11月  月次売上情報  昨年対比  既存店  109.2\n",
      "77  2024   12月  月次売上情報  昨年対比  既存店  104.9\n",
      "78  2024    1月  月次売上情報  昨年対比  既存店  104.0\n",
      "79  2024    2月  月次売上情報  昨年対比  既存店  104.6\n"
     ]
    }
   ],
   "source": [
    "# we expect 84 - 4 = 80 values in the tidy data this time\n",
    "print(smhd_202503_df.shape)\n",
    "print(f\"\\n{smhd_202503_df.iloc[68:]}\")"
   ]
  },
  {
   "cell_type": "code",
   "execution_count": null,
   "id": "29022185-8fab-4cd3-a6b0-09e7b4526947",
   "metadata": {},
   "outputs": [],
   "source": []
  },
  {
   "cell_type": "markdown",
   "id": "a29e6424-acfd-4b79-b6f8-9bae0160f8d7",
   "metadata": {},
   "source": [
    "----"
   ]
  },
  {
   "cell_type": "code",
   "execution_count": 15,
   "id": "77068cfc-b204-41df-a2f5-e4d95a2b5a8d",
   "metadata": {},
   "outputs": [],
   "source": [
    "for f in client.files.list():\n",
    "    client.files.delete(name=f.name)"
   ]
  },
  {
   "cell_type": "code",
   "execution_count": null,
   "id": "2ddd5e79-64a5-4b0e-9bd1-a4f336f75dc1",
   "metadata": {},
   "outputs": [],
   "source": []
  }
 ],
 "metadata": {
  "kernelspec": {
   "display_name": "Python 3 (ipykernel)",
   "language": "python",
   "name": "python3"
  },
  "language_info": {
   "codemirror_mode": {
    "name": "ipython",
    "version": 3
   },
   "file_extension": ".py",
   "mimetype": "text/x-python",
   "name": "python",
   "nbconvert_exporter": "python",
   "pygments_lexer": "ipython3",
   "version": "3.10.16"
  }
 },
 "nbformat": 4,
 "nbformat_minor": 5
}
