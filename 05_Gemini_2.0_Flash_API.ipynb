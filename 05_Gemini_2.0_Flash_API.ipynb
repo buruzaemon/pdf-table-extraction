{
 "cells": [
  {
   "cell_type": "markdown",
   "id": "c7fc6c11-1548-447a-ad54-6559a9e56a2f",
   "metadata": {},
   "source": [
    "# Google's Gemini 2.0 \n",
    "\n",
    "## Information Extraction: Tabular Data"
   ]
  },
  {
   "cell_type": "code",
   "execution_count": null,
   "id": "f9c342da-ec3a-48f0-b279-5023bb0c2cc9",
   "metadata": {},
   "outputs": [],
   "source": [
    "import os\n",
    "\n",
    "GEMINI_API_KEY = os.environ[\"GEMINI_API_KEY\"]"
   ]
  },
  {
   "cell_type": "code",
   "execution_count": null,
   "id": "ca0a9fa0-15cd-44a5-91b9-188d2011c888",
   "metadata": {},
   "outputs": [],
   "source": [
    "import pandas as pd\n",
    "\n",
    "from google import genai\n",
    "from google.genai import types\n",
    "\n",
    "from pydantic import BaseModel, Field"
   ]
  },
  {
   "cell_type": "code",
   "execution_count": null,
   "id": "e95f6e3d-da3e-4317-a579-0f63019a9e67",
   "metadata": {},
   "outputs": [],
   "source": [
    "# Create a client\n",
    "client = genai.Client(api_key=GEMINI_API_KEY)\n",
    "\n",
    "# Specify the model you are going to use\n",
    "model_id =  \"gemini-2.0-flash\" # or \"gemini-2.0-flash-lite-preview-02-05\"  , \"gemini-2.0-pro-exp-02-05\""
   ]
  },
  {
   "cell_type": "markdown",
   "id": "cb3c5401-35fa-4e4c-ac37-fa562533f348",
   "metadata": {},
   "source": [
    "----"
   ]
  },
  {
   "cell_type": "markdown",
   "id": "a14fda74-4d2f-47af-955c-4ce01dcb2c42",
   "metadata": {},
   "source": [
    "#### PDF ...\n",
    "\n",
    "Since the PDF file in our example is less than 20MB, we can send its contents inline with our request to the model."
   ]
  },
  {
   "cell_type": "code",
   "execution_count": null,
   "id": "13ea1444-23f4-4a6f-b6de-2dfe5bcfb7fc",
   "metadata": {},
   "outputs": [],
   "source": [
    "with open(\"samples/Press_release_car_registrations_February_2025.pdf\", \"rb\") as f:\n",
    "      file_bytes = f.read()\n",
    "\n",
    "pdf_file_part = types.Part.from_bytes(\n",
    "    data=file_bytes,\n",
    "    mime_type='application/pdf',\n",
    ")"
   ]
  },
  {
   "cell_type": "markdown",
   "id": "61450844-0080-4036-8672-bd5efe577608",
   "metadata": {},
   "source": [
    "----"
   ]
  },
  {
   "cell_type": "markdown",
   "id": "bd32ac38-0bd0-425e-a1c9-fc77bc9663f7",
   "metadata": {},
   "source": [
    "### Function for calling the Google Gen AI model\n",
    "\n",
    "* specifies JSON for the data returned\n",
    "* sets the schema of the response"
   ]
  },
  {
   "cell_type": "code",
   "execution_count": null,
   "id": "005c2460-7ebd-4e76-a628-ece5e406e6f8",
   "metadata": {},
   "outputs": [],
   "source": [
    "def extract_structured_data(model_id:str, prompt:str, file_part:types.Part, response_schema:BaseModel):\n",
    "    \"\"\"Given the Google Gen AI model,\n",
    "       a prompt for the model,\n",
    "       the raw bytes from a PDF file (max. 20MB!) which we send inline with our request,\n",
    "       and a schema for the structured response we wish to obtain:\n",
    "\n",
    "       Return a structured response (MIME type application/json) for the given prompt.\n",
    "    \"\"\"\n",
    "    response = client.models.generate_content(\n",
    "        model=model_id,\n",
    "\n",
    "        config=types.GenerateContentConfig(\n",
    "            system_instruction=SYSTEM_LEVEL_INSTRUCTION,\n",
    "            response_mime_type='application/json', \n",
    "            response_schema=response_schema,\n",
    "            seed=888\n",
    "        ),\n",
    "        \n",
    "        contents=[\n",
    "            file_part,            \n",
    "            prompt,\n",
    "        ]\n",
    "    )\n",
    "    \n",
    "    # Convert the response to the Pydantic model and return it\n",
    "    return response.parsed"
   ]
  },
  {
   "cell_type": "markdown",
   "id": "816a202b-36b0-478e-9ec2-a5206dd04d5a",
   "metadata": {},
   "source": [
    "----"
   ]
  },
  {
   "cell_type": "code",
   "execution_count": null,
   "id": "fa9fbecc-7808-4fee-bffd-0949e056d339",
   "metadata": {},
   "outputs": [],
   "source": [
    "SYSTEM_LEVEL_INSTRUCTION = (\n",
    "    \"You are an expert data analyst, specializing in information extraction from PDFs.  \"\n",
    "    \"You especially enjoy parsing out tabular data, always being completely accurate when extracting table parts \"\n",
    "    \"such as the row and column headers, and table cells. \"\n",
    "    \"You always understand the layout of a table, and know how to return empty values.\"\n",
    ").strip()"
   ]
  },
  {
   "cell_type": "markdown",
   "id": "79830ba1-4a46-4add-b325-349dd7b2fbb1",
   "metadata": {},
   "source": [
    "----"
   ]
  },
  {
   "cell_type": "markdown",
   "id": "1dd585a6-fd11-4877-8a80-9ab0605136b1",
   "metadata": {
    "jp-MarkdownHeadingCollapsed": true
   },
   "source": [
    "### ACEA Press Release, 2025-Feb\n",
    "\n",
    "![ACEA Press Release, page 3, NEW CAR REGISTRATIONS BY MARKET AND POWER SOURCE MONTHLY, 2025-Feb](samples/Press_release_car_registrations_February_2025_p3.png \"NEW CAR REGISTRATIONS BY MARKET AND POWER SOURCE MONTHLY, page 3, ACEA Press Release, 2025-Feb\")\n",
    "\n",
    "c.f. NEW CAR REGISTRATIONS BY MARKET AND POWER SOURCE MONTHLY on page 3, [samples/Press_release_car_registrations_February_2025.pdf](samples/Press_release_car_registrations_February_2025.pdf)"
   ]
  },
  {
   "cell_type": "markdown",
   "id": "f7895429-f0e3-4aa1-816a-7063b63c092b",
   "metadata": {},
   "source": [
    "### Pydantic models describing the response structure\n",
    "\n",
    "#### NEW CAR REGISTRATIONS BY MARKET AND POWER SOURCE MONTHLY\n",
    "\n",
    "c.f. page 3 of the PDF"
   ]
  },
  {
   "cell_type": "code",
   "execution_count": null,
   "id": "6ebd470b-e81d-482c-8081-29215b3b8b8a",
   "metadata": {},
   "outputs": [],
   "source": [
    "class Table1Row(BaseModel):\n",
    "    name: str = Field(description=\"This field is the name of the country or geopolitical entity in the header of each table row\")\n",
    "\n",
    "    values: list[str] = Field(description=(\n",
    "        \"This is a list of cell values making up a single row in the table. Represent a missing value with ??\"\n",
    "    ))\n",
    "\n",
    "class Table1(BaseModel):\n",
    "    data: list[Table1Row] = Field(description=(\n",
    "        \"This is a list of the Table1Row objects that make up a row of data in the NEW CAR REGISTRATIONS BY MARKET AND POWER SOURCE MONTHLY table.\"\n",
    "    ))    "
   ]
  },
  {
   "cell_type": "code",
   "execution_count": null,
   "id": "e7be776f-8a3f-4793-9b15-37919fc8008c",
   "metadata": {},
   "outputs": [],
   "source": [
    "%%time\n",
    "\n",
    "prompt=\"\"\"\n",
    "Extract all columns for major column categories of BATTERY ELECTRIC, PLUG-IN HYBRID, HYBRID ELECTRIC, OTHERS, PETROL, DIESEL, and TOTAL in the NEW CAR REGISTRATIONS BY MARKET AND POWER SOURCE, MONTHLY table in the given PDF.\n",
    "\n",
    "For each major column category, you must extract 3 values for: current month in current year, current month in previous year, and % change current yy / previous yy.\n",
    "\n",
    "Scan each table row from left to right, representing all missing cell values with double question marks.\n",
    "\n",
    "Represent missing % change year-on-year values with double question marks.\n",
    "\n",
    "There will be 34 rows and 21 columns.\n",
    "\n",
    "DO NOT MAKE UP CELL VALUES!\n",
    "\"\"\".strip()\n",
    "\n",
    "\n",
    "tidy_data = extract_structured_data(model_id, prompt, pdf_file_part, Table1)"
   ]
  },
  {
   "cell_type": "code",
   "execution_count": null,
   "id": "da6d3ed9-5397-4e93-99a6-1cc9bf181b21",
   "metadata": {},
   "outputs": [],
   "source": [
    "row_headers, data = [], []\n",
    "for row in tidy_data.model_dump()['data']:\n",
    "    row_headers.append(row['name'])\n",
    "    data.append(row['values'])\n",
    "\n",
    "df = pd.DataFrame(data, index=row_headers)\n",
    "df.replace('??', '', inplace=True)\n",
    "\n",
    "print(df.shape)\n",
    "print()\n",
    "df"
   ]
  },
  {
   "cell_type": "code",
   "execution_count": null,
   "id": "4a1b522f-0eb7-4507-b720-9d071409c31f",
   "metadata": {},
   "outputs": [],
   "source": [
    "df.loc[[\n",
    "    'Austria',\n",
    "    'Bulgaria',\n",
    "    'Cyprus',\n",
    "    'Denmark',\n",
    "    'Ireland',\n",
    "    'Latvia',\n",
    "    'Luxembourg', \n",
    "    'Malta',\n",
    "    'Romania',    # empty values at indices 3, 4, 6!\n",
    "    'Iceland', \n",
    "    'Norway',\n",
    "    'United Kingdom'\n",
    "]].T"
   ]
  },
  {
   "cell_type": "code",
   "execution_count": null,
   "id": "2c2823da-ae4b-46bf-a8b7-5f229a35d07f",
   "metadata": {},
   "outputs": [],
   "source": [
    "df.to_csv('samples/acea_1_202502_raw.csv', encoding='CP932', header=False)"
   ]
  },
  {
   "cell_type": "markdown",
   "id": "5c0236c0-10ba-4ae7-9f59-3091dc36a8ff",
   "metadata": {},
   "source": [
    "----"
   ]
  },
  {
   "cell_type": "markdown",
   "id": "122cce81-526f-4541-bee4-1d0278d022cf",
   "metadata": {},
   "source": [
    "### Pydantic models describing the response structure\n",
    "\n",
    "#### NEW CAR REGISTRATIONS BY MANUFACTURER EU + EFTA + UK\n",
    "\n",
    "![ACEA Press Release, page 6, NEW CAR REGISTRATIONS BY MANUFACTURER EU + EFTA + UK, 2025-Feb](samples/Press_release_car_registrations_February_2025_p6.png \"NEW CAR REGISTRATIONS BY MANUFACTURER EU + EFTA + UK, page 6, ACEA Press Release, 2025-Feb\")\n",
    "\n",
    "c.f. NEW CAR REGISTRATIONS BY MANUFACTURER EU + EFTA + UK on page 6, [samples/Press_release_car_registrations_February_2025.pdf](samples/Press_release_car_registrations_February_2025.pdf)"
   ]
  },
  {
   "cell_type": "code",
   "execution_count": null,
   "id": "beb8031e-da15-42fc-9f7b-72c7e1359158",
   "metadata": {},
   "outputs": [],
   "source": [
    "class ACEARow2(BaseModel):\n",
    "    name: str = Field(description=\"This field is the name of the automanufacturer group or company in the header of each table row\")\n",
    "\n",
    "    values: list[str] = Field(description=(\n",
    "        \"This is a list of cell values making up a single row in the table. There are exactly 10 cell values for each row. Represent a missing value with ??\"\n",
    "    ))\n",
    "\n",
    "class ACEATable2(BaseModel):\n",
    "    data: list[ACEARow2] = Field(description=(\n",
    "        \"This is a list of the ACEARow2 objects. There are exactly 46 rows in the NEW CAR REGISTRATIONS BY MANUFACTURER EU + EFTA + UK table.\"\n",
    "    ))    "
   ]
  },
  {
   "cell_type": "code",
   "execution_count": null,
   "id": "21259eff-f585-4862-9105-070fb55ef32a",
   "metadata": {},
   "outputs": [],
   "source": [
    "%%time\n",
    "\n",
    "prompt=\"\"\"\n",
    "Extract all table values in the NEW CAR REGISTRATIONS BY MANUFACTURER EU + EFTA + UK table in the given PDF.\n",
    "\n",
    "Extract all columns for major column categories of FEBRUARY and JANURARY-FEBRUARY.\n",
    "\n",
    "For each major column category, you must extract:\n",
    "- 2 values for % share 2025 and 2024\n",
    "- 2 values for Units 2025 and 2024\n",
    "- 1 value for % change 25/24\n",
    "Scan each table row from left to right, representing all missing cell values with double question marks.\n",
    "\n",
    "Do not return the column headers.\n",
    "\n",
    "For the row headers, please leave out any superscript numeric characters. For example \"Others^2\" is simply \"Others\".\n",
    "\n",
    "There will be 46 rows and 10 columns.\n",
    "\n",
    "DO NOT MAKE UP CELL VALUES!\n",
    "\"\"\".strip()\n",
    "\n",
    "tidy_data = extract_structured_data(model_id, prompt, acea_202502, ACEATable2)"
   ]
  },
  {
   "cell_type": "code",
   "execution_count": null,
   "id": "fa214732-0679-4532-9742-9b9b02a7bb05",
   "metadata": {},
   "outputs": [],
   "source": [
    "row_headers, data = [], []\n",
    "for row in tidy_data.model_dump()['data']:\n",
    "    row_headers.append(row['name'])\n",
    "    data.append(row['values'])\n",
    "\n",
    "df = pd.DataFrame(data, index=row_headers)\n",
    "df.replace('??', '', inplace=True)\n",
    "\n",
    "print(df.shape)\n",
    "print()\n",
    "df"
   ]
  },
  {
   "cell_type": "code",
   "execution_count": null,
   "id": "9c0be0c5-9682-4696-ba92-b215c491b0d0",
   "metadata": {},
   "outputs": [],
   "source": [
    "df.to_csv('samples/acea_2_202502_raw.csv', encoding='CP932', header=False)"
   ]
  },
  {
   "cell_type": "markdown",
   "id": "73588298-32c8-4d4e-bf3f-5c2cc5456443",
   "metadata": {},
   "source": [
    "<hr width=40%/>"
   ]
  },
  {
   "cell_type": "code",
   "execution_count": null,
   "id": "cd81cb9f-361e-4333-b1b6-5f31853c5da3",
   "metadata": {},
   "outputs": [],
   "source": [
    "# housekeeping...\n",
    "for f in client.files.list():\n",
    "    client.files.delete(name=f.name)"
   ]
  },
  {
   "cell_type": "markdown",
   "id": "158e6d02-f728-47a9-84ec-0fe609cc77ee",
   "metadata": {},
   "source": [
    "----"
   ]
  },
  {
   "cell_type": "markdown",
   "id": "4c3ff65d-36b4-4997-9880-5098dda5da05",
   "metadata": {},
   "source": [
    "#### Gemini 2.0 Flash with only a prompt"
   ]
  },
  {
   "cell_type": "raw",
   "id": "d2e5bf3f-4422-4f37-8bc0-c30454abd6d3",
   "metadata": {},
   "source": [
    "saintmarc_hd_20250213 = client.files.upload(\n",
    "    file=\"samples/saintmarc-hd_20250213.pdf\", \n",
    "    config={\n",
    "        'mime_type': 'application/pdf',\n",
    "        'display_name': 'saintmarc-hd_20250213.pdf'\n",
    "    }\n",
    ")\n",
    "\n",
    "saintmarc_hd_20250313 = client.files.upload(\n",
    "    file=\"samples/saintmarc-hd_20250313.pdf\", \n",
    "    config={\n",
    "        'mime_type': 'application/pdf',\n",
    "        'display_name': 'saintmarc-hd_20250313.pdf'\n",
    "    }\n",
    ")\n",
    "\n",
    "acea_202502 = client.files.upload(\n",
    "    file=\"samples/Press_release_car_registrations_February_2025.pdf\", \n",
    "    config={\n",
    "        'mime_type': 'application/pdf',\n",
    "        'display_name': 'Press_release_car_registrations_February_2025.pdf'\n",
    "    }\n",
    ")\n",
    "\n",
    "for uploaded_file in (saintmarc_hd_20250213, saintmarc_hd_20250313, acea_202502):\n",
    "    file_size = client.models.count_tokens(\n",
    "        model=model_id,\n",
    "        contents=uploaded_file\n",
    "    )\n",
    "\n",
    "    print(f'File: {uploaded_file.display_name} contains {file_size.total_tokens} tokens')"
   ]
  },
  {
   "cell_type": "raw",
   "id": "ebe48d30-e0ab-4630-a52e-f27766ea17ad",
   "metadata": {},
   "source": [
    "%%time\n",
    "\n",
    "prompt=\"\"\"\n",
    "    You are an expert at locating tabular data in PDFs and extracting the exact information from all parts of a table, \n",
    "    such as the row and column headers, and table cells. You always understand the layout of a table, and know how to return empty values.\n",
    "\n",
    "    Extract the entire contents of the NEW CAR REGISTRATIONS BY MARKET AND POWER SOURCE, MONTHLY table on page 3 in the given PDF.\n",
    "    Extrace the table contents as Markdown.\n",
    "\n",
    "    Instructions for the column headers:\n",
    "    - The column headers are NOT required. Do NOT return them.\n",
    "\n",
    "    Instructions for the row headers:\n",
    "    - Make sure that for the rows that start with a country or geopolitical entity.\n",
    "    \n",
    "    Instructions for the table cells:\n",
    "    - In each row for a country or geopolitical entity, there are exactly 21 values + 1 for the row header.\n",
    "    - Therefore, each table row is represented with exactly 23 | characters.\n",
    "    - If a cell value is 0, then please return 0.\n",
    "    - If a value is missing or empty, please represent it with an empty string.\n",
    "    - For example, a section of three empty values might look like |   |   |   |\n",
    "\"\"\" \n",
    "\n",
    "response = client.models.generate_content(\n",
    "    model=model_id,\n",
    "    contents=[acea_202502, prompt]\n",
    ")\n",
    "\n",
    "print(response.text)\n",
    "print()"
   ]
  },
  {
   "cell_type": "markdown",
   "id": "425a246e-d5de-4671-ab8e-be26b4c000db",
   "metadata": {},
   "source": [
    "----"
   ]
  },
  {
   "cell_type": "raw",
   "id": "f9b45ffc-1f94-4a70-9688-65b92bfab58f",
   "metadata": {},
   "source": [
    "%%time\n",
    "\n",
    "prompt=\"\"\"\n",
    "    You are an expert at locating tabular data in PDFs and extracting the exact information from all parts of a table, \n",
    "    such as the row and column headers, and table cells. You always understand the layout of a table, and know how to return empty values.\n",
    "\n",
    "    Extract the entire contents of the NEW CAR REGISTRATIONS BY MANUFACTURER, EU + EFTA + UK table on the last page in the given PDF.\n",
    "    Extrace the table contents as Markdown.\n",
    "\n",
    "    Instructions for the column headers:\n",
    "    - The column headers are NOT required. Do NOT return them.\n",
    "\n",
    "    Instructions for the row headers:\n",
    "    - The row headers are required. Make sure that for the rows that start with the name of an automobile manufacturer, or Others.\n",
    "    - Leave out an superscript characters: Others2 is just O\n",
    "    \n",
    "    Instructions for the table cells:\n",
    "    - In each row for an automobile manufacturer, there are exactly 10 values.\n",
    "    - You must accurately extract the numerical value. NO MISTAKES!\n",
    "\"\"\" \n",
    "\n",
    "response = client.models.generate_content(\n",
    "    model=model_id,\n",
    "    contents=[acea_202502, prompt]\n",
    ")\n",
    "\n",
    "print(response.text)\n",
    "print()"
   ]
  },
  {
   "cell_type": "markdown",
   "id": "a2a9a827-d70b-4c28-9036-c5ca5a65c5b4",
   "metadata": {},
   "source": [
    "----"
   ]
  },
  {
   "cell_type": "markdown",
   "id": "010be1dc-79f9-4abe-a787-0c72667c2f2e",
   "metadata": {},
   "source": [
    "### Gemini 2.0 Flash with prompt + structured response instruction: Tidy data formatting\n",
    "\n",
    "Extracting the table from the Saint-Marc Holdings PDF."
   ]
  },
  {
   "cell_type": "raw",
   "id": "ec496df2-48a8-4001-b686-d72dd88b1cd7",
   "metadata": {},
   "source": [
    "class TidyRow(BaseModel):\n",
    "    \"\"\" Model for a tidy row of the tabular data in the Saint-marc HD PDF \"\"\"\n",
    "\n",
    "    year: str = Field(description=\"This field is the yyyy value from the 年度 column\")\n",
    "\n",
    "    month: str = Field(description=(\n",
    "        \"This field may takes one of 15 values from the column headers: \"\n",
    "        \"1月, 2月, 3月, 4月, 5月, 6月, 7月, 8月, 9月, 10月, 11月, 12月, 下期, 上期, 通期.\"\n",
    "    ))\n",
    "    #month: str = Field(description=(\n",
    "    #    \"This field may takes one of 15 values from the column headers: \"\n",
    "    #    \"1月, 2月, 3月, 4月, 5月, 6月, 7月, 8月, 9月, 10月, 11月, 12月, 下期, 上期, 通期. \"\n",
    "    #    \"Please remove any 月 characters. Also please replace 下半期 with 下期, and 上半期 with 上期\"\n",
    "    #))\n",
    "\n",
    "    cat1: str = Field(description=\"This field is always 月次売上情報\")\n",
    "    \n",
    "    cat2: str = Field(description=\"This field is always 昨年対比\")\n",
    "    \n",
    "    cat3: str = Field(description=\"This field has a value that is either 全店 or 既存店\")\n",
    "    \n",
    "    value: str = Field(description=(\n",
    "        \"This field holds the table cell value, which is a floating point number \"\n",
    "        \"with exactly one decimal place, or it is a whitespace indicating a blank value\"\n",
    "    ))\n",
    "    #value: str = Field(description=(\n",
    "    #    \"This field holds the table cell value, which is a floating point number \"\n",
    "    #    \"with exactly one decimal place. Please divide this by 100.00, \"\n",
    "    #    \"and show this new floating point to 3 decimal places.\"\n",
    "    #))\n",
    "\n",
    "class TidyData(BaseModel):\n",
    "    data: list[TidyRow] = Field(description=\"The list of TidyRow with year, month, cat1, cat2, cat3, and value fields\")"
   ]
  },
  {
   "cell_type": "markdown",
   "id": "a2a9abc5-edb1-4090-b8da-44500630c831",
   "metadata": {},
   "source": [
    "<hr width=40%/>"
   ]
  },
  {
   "cell_type": "markdown",
   "id": "498d7caa-63ea-4030-8e36-7f7ef8b78765",
   "metadata": {},
   "source": [
    "### Saint-marc HD PDF for 2025-Jan 月次売上情報\n",
    "\n",
    "![Saint-marc HD PDF for 2025-Jan 月次売上情報](samples/saintmarc-hd_20250213.pdf.png \"Saint-marc HD PDF for 2025-Jan 月次売上情報\")"
   ]
  },
  {
   "cell_type": "raw",
   "id": "25282411-7012-497b-a954-730e68c683e6",
   "metadata": {},
   "source": [
    "%%time\n",
    "\n",
    "prompt = \"\"\"\n",
    "Extract the 月次売上情報 table in the following PDF file in TidyData format\n",
    "\"\"\".strip()\n",
    "\n",
    "# let's try the Saint-marc HD 20250213 PDF: this is the relatively clean table\n",
    "# ... text \n",
    "tidy_data = extract_structured_data(model_id, prompt, saintmarc_hd_20250213, TidyData)\n",
    "\n",
    "smhd_202502_df = pd.DataFrame(tidy_data.model_dump()['data'])"
   ]
  },
  {
   "cell_type": "raw",
   "id": "ff0debf2-9642-4e96-acd7-c3cb92b0ce69",
   "metadata": {},
   "source": [
    "# we expect 84 - 6 = 78 values in the tidy data\n",
    "print(smhd_202502_df.shape)\n",
    "print(f\"\\n{smhd_202502_df.iloc[28:43]}\")"
   ]
  },
  {
   "cell_type": "markdown",
   "id": "701c3b3c-2197-4585-84bb-69d709f3eb20",
   "metadata": {},
   "source": [
    "<hr width=40%/>"
   ]
  },
  {
   "cell_type": "markdown",
   "id": "d9156761-a0ff-4658-9771-1a46f909dcff",
   "metadata": {},
   "source": [
    "### Saint-marc HD PDF for 2025-Feb 月次売上情報\n",
    "\n",
    "![Saint-marc HD PDF for 2025-Feb 月次売上情報](samples/saintmarc-hd_20250313.pdf.png \"Saint-marc HD PDF for 2025-Feb 月次売上情報\")"
   ]
  },
  {
   "cell_type": "raw",
   "id": "414aa3fe-23e3-4f26-8cec-65ccb1ec0752",
   "metadata": {},
   "source": [
    "%%time\n",
    "\n",
    "prompt = \"\"\"\n",
    "Extract the 月次売上情報 table in the following PDF file in TidyData format\n",
    "\"\"\".strip()\n",
    "\n",
    "# let's try the Saint-marc HD 20250213 PDF: this is the relatively clean table\n",
    "# ... text \n",
    "tidy_data = extract_structured_data(model_id, prompt, saintmarc_hd_20250313, TidyData)\n",
    "\n",
    "smhd_202503_df = pd.DataFrame(tidy_data.model_dump()['data'])"
   ]
  },
  {
   "cell_type": "raw",
   "id": "18c716ab-1936-4449-94c9-ed81947fb7fc",
   "metadata": {},
   "source": [
    "# we expect 84 - 4 = 80 values in the tidy data this time\n",
    "print(smhd_202503_df.shape)\n",
    "print(f\"\\n{smhd_202503_df.iloc[68:]}\")"
   ]
  },
  {
   "cell_type": "markdown",
   "id": "a29e6424-acfd-4b79-b6f8-9bae0160f8d7",
   "metadata": {},
   "source": [
    "----"
   ]
  },
  {
   "cell_type": "raw",
   "id": "25370f5b-91f0-46da-86fa-fe27c55bd7d2",
   "metadata": {},
   "source": [
    "for f in client.files.list():\n",
    "    client.files.delete(name=f.name)"
   ]
  }
 ],
 "metadata": {
  "kernelspec": {
   "display_name": "Python 3 (ipykernel)",
   "language": "python",
   "name": "python3"
  },
  "language_info": {
   "codemirror_mode": {
    "name": "ipython",
    "version": 3
   },
   "file_extension": ".py",
   "mimetype": "text/x-python",
   "name": "python",
   "nbconvert_exporter": "python",
   "pygments_lexer": "ipython3",
   "version": "3.10.17"
  }
 },
 "nbformat": 4,
 "nbformat_minor": 5
}
