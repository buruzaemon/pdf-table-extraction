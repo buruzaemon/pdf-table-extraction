{
 "cells": [
  {
   "cell_type": "markdown",
   "id": "8654c4d9-80f4-4f4e-86b9-cc7fda2c72cc",
   "metadata": {},
   "source": [
    "# Google's Gemini 2.0 \n",
    "\n",
    "## ... ??"
   ]
  },
  {
   "cell_type": "code",
   "execution_count": null,
   "id": "0a708161-6d5c-4d4b-b71a-ac6884fdd8c9",
   "metadata": {},
   "outputs": [],
   "source": [
    "!ls -la samples"
   ]
  },
  {
   "cell_type": "markdown",
   "id": "43fe5f33-e271-45a9-b1b5-d2126ff201ab",
   "metadata": {},
   "source": [
    "## Set up environment"
   ]
  },
  {
   "cell_type": "raw",
   "id": "fa851aef-30fd-452e-a0ad-6d1de5e1443d",
   "metadata": {},
   "source": [
    "%pip install \"google-genai>=1\""
   ]
  },
  {
   "cell_type": "markdown",
   "id": "7dd72871-bdd0-44b9-a43a-d747a8dcfac1",
   "metadata": {},
   "source": [
    "## Get a Gemini API key\n",
    "\n",
    "Go to the [Get API Key page at Google AI Studio](https://aistudio.google.com/app/apikey) to create an API key.\n",
    "\n",
    "Add this into your development environment in a safe manner, being sure never to save it in plaintext in your code or on your filesystem. For example, you could save your Gemini API key as an environment variable in your shell."
   ]
  },
  {
   "cell_type": "code",
   "execution_count": 1,
   "id": "e4fdf149-5222-40d1-a48a-82e047c9167d",
   "metadata": {},
   "outputs": [],
   "source": [
    "import os\n",
    "\n",
    "GEMINI_API_KEY = os.environ[\"GEMINI_API_KEY\"]"
   ]
  },
  {
   "cell_type": "markdown",
   "id": "85d1e7b3-3e94-4e71-a586-ab65be39ee8f",
   "metadata": {},
   "source": [
    "----"
   ]
  },
  {
   "cell_type": "markdown",
   "id": "4525bb91-df2b-4895-af9e-00e7f70532de",
   "metadata": {},
   "source": [
    "## Instantiate a client to Gemini\n",
    "\n",
    "The client instance pointed at Gemini can be used to:\n",
    "1. manage files for input/output ([`upload`](https://googleapis.github.io/python-genai/genai.html#genai.files.Files.upload), [`list`](https://googleapis.github.io/python-genai/genai.html#genai.files.AsyncFiles.list), [`delete`](https://googleapis.github.io/python-genai/genai.html#genai.files.AsyncFiles.delete), etc.)\n",
    "2. invoke calls to the Gemini model ([`count_tokens`](https://googleapis.github.io/python-genai/genai.html#genai.models.AsyncModels.count_tokens), [`generate_content`](https://googleapis.github.io/python-genai/genai.html#genai.models.AsyncModels.generate_content))"
   ]
  },
  {
   "cell_type": "code",
   "execution_count": 2,
   "id": "4cdb588b-2510-4253-bb43-97aa6fdaadef",
   "metadata": {},
   "outputs": [],
   "source": [
    "from google import genai\n",
    "\n",
    "# Create a client\n",
    "client = genai.Client(api_key=GEMINI_API_KEY)\n",
    "\n",
    "# Define the model you are going to use\n",
    "model_id =  \"gemini-2.0-flash\" # or \"gemini-2.0-flash-lite-preview-02-05\"  , \"gemini-2.0-pro-exp-02-05\""
   ]
  },
  {
   "cell_type": "markdown",
   "id": "39198fb5-b023-437f-87ce-8b5400c30d3c",
   "metadata": {},
   "source": [
    "#### Prepare/upload PDFs"
   ]
  },
  {
   "cell_type": "raw",
   "id": "6f9e4548-7e61-497b-88ca-dc512c823836",
   "metadata": {},
   "source": [
    "saintmarc_hd_20250213 = client.files.upload(\n",
    "    file=\"samples/saintmarc-hd_20250213.pdf\", \n",
    "    config={'display_name': 'saintmarc-hd_20250213.pdf'}\n",
    ")\n",
    "\n",
    "saintmarc_hd_20250313 = client.files.upload(\n",
    "    file=\"samples/saintmarc-hd_20250313.pdf\", \n",
    "    config={'display_name': 'saintmarc-hd_20250313.pdf'}\n",
    ")\n",
    "\n",
    "acea_202502 = client.files.upload(\n",
    "    file=\"samples/Press_release_car_registrations_February_2025.pdf\", \n",
    "    config={'display_name': 'Press_release_car_registrations_February_2025.pdf'}\n",
    ")\n",
    "\n",
    "for uploaded_file in (saintmarc_hd_20250213, saintmarc_hd_20250313, acea_202502):\n",
    "    file_size = client.models.count_tokens(\n",
    "        model=model_id,\n",
    "        contents=uploaded_file\n",
    "    )\n",
    "\n",
    "    print(f'File: {uploaded_file.display_name} contains {file_size.total_tokens} tokens')"
   ]
  },
  {
   "cell_type": "markdown",
   "id": "b3ac51b0-b4bd-4445-8254-d41d6f117e0a",
   "metadata": {},
   "source": [
    "#### Listing all files uploaded via the `files` API"
   ]
  },
  {
   "cell_type": "raw",
   "id": "9ac767ec-9226-4ae1-aee9-5c296bdb7f8e",
   "metadata": {},
   "source": [
    "for f in client.files.list():\n",
    "    print(f)"
   ]
  },
  {
   "cell_type": "markdown",
   "id": "3ec6a654-2f78-4fca-b393-292f20b894fa",
   "metadata": {},
   "source": [
    "#### Deleting all files uploaded via the `files` API"
   ]
  },
  {
   "cell_type": "raw",
   "id": "105e141f-005e-43d0-a3c1-d364be2d782a",
   "metadata": {},
   "source": [
    "for f in client.files.list():\n",
    "    client.files.delete(name=f.name)"
   ]
  },
  {
   "cell_type": "markdown",
   "id": "af8268ba-3a92-4aa5-b96c-39527c282962",
   "metadata": {},
   "source": [
    "----"
   ]
  },
  {
   "cell_type": "code",
   "execution_count": 16,
   "id": "952d9ab1-f71f-4c7b-bac0-527f21411794",
   "metadata": {},
   "outputs": [],
   "source": [
    "from pydantic import BaseModel, Field\n",
    "\n",
    "class SMTidyRow(BaseModel):\n",
    "    \"\"\" Model for a tidy row of the tabular data in the Saint-marc HD PDF \"\"\"\n",
    "\n",
    "    year: str = Field(description=\"This field is the yyyy value from the 年度 column\")\n",
    "\n",
    "    month: str = Field(description=(\n",
    "        \"This field may takes one of 15 values from the column headers: \"\n",
    "        \"1月, 2月, 3月, 4月, 5月, 6月, 7月, 8月, 9月, 10月, 11月, 12月, 下期, 上期, 通期.\"\n",
    "    ))\n",
    "    #month: str = Field(description=(\n",
    "    #    \"This field may takes one of 15 values from the column headers: \"\n",
    "    #    \"1月, 2月, 3月, 4月, 5月, 6月, 7月, 8月, 9月, 10月, 11月, 12月, 下期, 上期, 通期. \"\n",
    "    #    \"Please remove any 月 characters. Also please replace 下半期 with 下期, and 上半期 with 上期\"\n",
    "    #))\n",
    "\n",
    "    cat1: str = Field(description=\"This field is always 月次売上情報\")\n",
    "    \n",
    "    cat2: str = Field(description=\"This field is always 昨年対比\")\n",
    "    \n",
    "    cat3: str = Field(description=\"This field has a value that is either 全店 or 既存店\"\n",
    "                     )\n",
    "    value: str = Field(description=(\n",
    "        \"This field holds the table cell value, which is a floating point number \"\n",
    "        \"with exactly one decimal place, or it is a whitespace indicating a blank value\"\n",
    "    ))\n",
    "    #value: str = Field(description=(\n",
    "    #    \"This field holds the table cell value, which is a floating point number \"\n",
    "    #    \"with exactly one decimal place. Please divide this by 100.00, \"\n",
    "    #    \"and show this new floating point to 3 decimal places.\"\n",
    "    #))\n",
    "\n",
    "class SMTidyData(BaseModel):\n",
    "    data: list[SMTidyRow] = Field(description=\"The list of SMTidyRow with year, month, cat1, cat2, cat3, and value fields\")"
   ]
  },
  {
   "cell_type": "markdown",
   "id": "de383eae-d6e7-4b8d-98c4-8b2e947b2271",
   "metadata": {},
   "source": [
    "----"
   ]
  },
  {
   "cell_type": "code",
   "execution_count": 35,
   "id": "0563f1bd-20d4-44f7-bd2b-638fa5cb0c9f",
   "metadata": {},
   "outputs": [],
   "source": [
    "def extract_structured_data(file_path: str, model: BaseModel):\n",
    "    \n",
    "    # Upload the file to the File API\n",
    "    file = client.files.upload(\n",
    "        file=file_path, \n",
    "        config={\n",
    "            'mime_type': 'application/pdf',\n",
    "            'display_name': file_path.split('/')[-1].split('.')[0]\n",
    "    })\n",
    "    \n",
    "    # Generate a structured response using the Gemini API\n",
    "    prompt = f\"Extract the table from page 3 in the following PDF file in ACEATidyData format\"\n",
    "    response = client.models.generate_content(\n",
    "        model=model_id, \n",
    "        contents=[prompt, file], \n",
    "        config={\n",
    "            'response_mime_type': 'application/json', \n",
    "            'response_schema': model\n",
    "    })\n",
    "\n",
    "    # now that we're finished, let's delete that file\n",
    "    client.files.delete(name=file.name)\n",
    "    \n",
    "    # Convert the response to the pydantic model and return it\n",
    "    return response.parsed"
   ]
  },
  {
   "cell_type": "code",
   "execution_count": 36,
   "id": "48c567d2-c44f-4685-b6b7-09c8893ae55c",
   "metadata": {},
   "outputs": [],
   "source": [
    "import pandas as pd"
   ]
  },
  {
   "cell_type": "markdown",
   "id": "a202aeb0-7bd1-4477-a639-8e8af600f255",
   "metadata": {},
   "source": [
    "![Saint-marc HD PDF for 2025-Feb 月次売上情報](samples/saintmarc-hd_20250213.pdf.png \"Saint-marc HD PDF for 2025-Feb 月次売上情報\")"
   ]
  },
  {
   "cell_type": "code",
   "execution_count": 37,
   "id": "ee6fd1fc-f71a-4432-9947-a18da6aaef0e",
   "metadata": {},
   "outputs": [
    {
     "name": "stdout",
     "output_type": "stream",
     "text": [
      "CPU times: user 18.8 ms, sys: 3.64 ms, total: 22.5 ms\n",
      "Wall time: 27.7 s\n"
     ]
    }
   ],
   "source": [
    "%%time\n",
    "\n",
    "# let's try the Saint-marc HD 20250213 PDF: this is the relatively clean table\n",
    "# ... text \n",
    "tidy_data = extract_structured_data('samples/saintmarc-hd_20250213.pdf', SMTidyData)\n",
    "\n",
    "smhd_202502_df = pd.DataFrame(tidy_data.model_dump()['data'])"
   ]
  },
  {
   "cell_type": "code",
   "execution_count": 38,
   "id": "e17667ae-5e6f-47d5-8f47-526a3b7afc77",
   "metadata": {},
   "outputs": [
    {
     "name": "stdout",
     "output_type": "stream",
     "text": [
      "(78, 6)\n",
      "\n",
      "    year month    cat1  cat2 cat3  value\n",
      "28  2024    4月  月次売上情報  昨年対比   全店  102.6\n",
      "29  2024    5月  月次売上情報  昨年対比   全店  102.4\n",
      "30  2024    6月  月次売上情報  昨年対比   全店  109.9\n",
      "31  2024    7月  月次売上情報  昨年対比   全店  100.7\n",
      "32  2024    8月  月次売上情報  昨年対比   全店  106.6\n",
      "33  2024    9月  月次売上情報  昨年対比   全店  105.6\n",
      "34  2024   上半期  月次売上情報  昨年対比   全店  104.6\n",
      "35  2024   10月  月次売上情報  昨年対比   全店   98.8\n",
      "36  2024   11月  月次売上情報  昨年対比   全店  104.5\n",
      "37  2024   12月  月次売上情報  昨年対比   全店  101.8\n",
      "38  2024    1月  月次売上情報  昨年対比   全店  101.2\n",
      "39  2022    4月  月次売上情報  昨年対比  既存店  115.1\n",
      "40  2022    5月  月次売上情報  昨年対比  既存店  126.0\n",
      "41  2022    6月  月次売上情報  昨年対比  既存店  122.8\n",
      "42  2022    7月  月次売上情報  昨年対比  既存店  111.5\n"
     ]
    }
   ],
   "source": [
    "# we expect 84 - 6 = 78 values in the tidy data\n",
    "print(smhd_202502_df.shape)\n",
    "print(f\"\\n{smhd_202502_df.iloc[28:43]}\")"
   ]
  },
  {
   "cell_type": "markdown",
   "id": "b9e521e8-8d8d-450d-9c6e-8662bb311f74",
   "metadata": {},
   "source": [
    "<hr width=40%/>"
   ]
  },
  {
   "cell_type": "markdown",
   "id": "4936388d-dba4-49ae-a91b-29c72b1182b0",
   "metadata": {},
   "source": [
    "![Saint-marc HD PDF for 2025-Mar 月次売上情報](samples/saintmarc-hd_20250313.pdf.png \"Saint-marc HD PDF for 2025-Mar 月次売上情報\")"
   ]
  },
  {
   "cell_type": "code",
   "execution_count": 39,
   "id": "ca8a9912-f407-4650-a6bf-b57ebb0bb9d8",
   "metadata": {},
   "outputs": [
    {
     "name": "stdout",
     "output_type": "stream",
     "text": [
      "CPU times: user 15.6 ms, sys: 848 μs, total: 16.5 ms\n",
      "Wall time: 26.8 s\n"
     ]
    }
   ],
   "source": [
    "%%time\n",
    "\n",
    "# let's try the Saint-marc HD 20250313 PDF: this is the PDF created from an image file\n",
    "# ... image file, no text!\n",
    "tidy_data = extract_structured_data('samples/saintmarc-hd_20250313.pdf', SMTidyData)\n",
    "\n",
    "smhd_202503_df = pd.DataFrame(tidy_data.model_dump()['data'])"
   ]
  },
  {
   "cell_type": "code",
   "execution_count": 40,
   "id": "739ab365-4aad-485a-9ea5-8fa890d087af",
   "metadata": {},
   "outputs": [
    {
     "name": "stdout",
     "output_type": "stream",
     "text": [
      "(80, 6)\n",
      "\n",
      "    year month    cat1  cat2 cat3  value\n",
      "68  2024    4月  月次売上情報  昨年対比  既存店  107.1\n",
      "69  2024    5月  月次売上情報  昨年対比  既存店  106.3\n",
      "70  2024    6月  月次売上情報  昨年対比  既存店  113.9\n",
      "71  2024    7月  月次売上情報  昨年対比  既存店  105.2\n",
      "72  2024    8月  月次売上情報  昨年対比  既存店  110.5\n",
      "73  2024    9月  月次売上情報  昨年対比  既存店  110.3\n",
      "74  2024   上半期  月次売上情報  昨年対比  既存店  108.8\n",
      "75  2024   10月  月次売上情報  昨年対比  既存店  103.8\n",
      "76  2024   11月  月次売上情報  昨年対比  既存店  109.2\n",
      "77  2024   12月  月次売上情報  昨年対比  既存店  104.9\n",
      "78  2024    1月  月次売上情報  昨年対比  既存店  104.0\n",
      "79  2024    2月  月次売上情報  昨年対比  既存店  104.6\n"
     ]
    }
   ],
   "source": [
    "# we expect 84 - 4 = 80 values in the tidy data this time\n",
    "print(smhd_202503_df.shape)\n",
    "print(f\"\\n{smhd_202503_df.iloc[68:]}\")"
   ]
  },
  {
   "cell_type": "markdown",
   "id": "22246b35-7af9-40fc-921a-747ee002cc15",
   "metadata": {},
   "source": [
    "<hr width=40%/>"
   ]
  },
  {
   "cell_type": "markdown",
   "id": "6ab44687-6a76-4747-88dd-448a6dc0cc94",
   "metadata": {},
   "source": [
    "![ACEA Press Release, 2025-Feb](samples/Press_release_car_registrations_February_2025.pdf.png \"ACEA Press Release, 2025-Feb\")"
   ]
  },
  {
   "cell_type": "code",
   "execution_count": 41,
   "id": "92f878a7-65ad-419e-8bf2-e6bcd4f9a86b",
   "metadata": {},
   "outputs": [],
   "source": [
    "class ACEATidyRow(BaseModel):\n",
    "    \"\"\" Model for a tidy row of the tabular data in the ACEA PDF \"\"\"\n",
    "\n",
    "    year: str = Field(description=\"This field is the yyyy value of either the current year or the previous year\")\n",
    "\n",
    "    month: str = Field(description=\"This current month of the current year; or the current month of the previous year; or the % change from current/previous\")\n",
    "\n",
    "    cat1: str = Field(description=\"This field is one of: BATTERY ELECTRIC, PLUG-IN HYBRID, HYBRID ELECTRIC, OTHERS, PETROL, DIESEL, TOTAL\")\n",
    "    \n",
    "    cat2: str = Field(description=\"This field is the country/region that is listed in the row headers\")\n",
    "\n",
    "    value: str = Field(description=\"This field holds the table cell value, which is a numeric value\")\n",
    "\n",
    "\n",
    "class ACEATidyData(BaseModel):\n",
    "    data: list[ACEATidyRow] = Field(description=\"The list of ACEATidyRow with year, month, cat1, cat2, and value fields\")"
   ]
  },
  {
   "cell_type": "code",
   "execution_count": 42,
   "id": "cb808e3f-1fac-478c-a815-5667c8ae6138",
   "metadata": {},
   "outputs": [
    {
     "ename": "AttributeError",
     "evalue": "'NoneType' object has no attribute 'model_dump'",
     "output_type": "error",
     "traceback": [
      "\u001b[0;31m---------------------------------------------------------------------------\u001b[0m",
      "\u001b[0;31mAttributeError\u001b[0m                            Traceback (most recent call last)",
      "File \u001b[0;32m<timed exec>:5\u001b[0m\n",
      "\u001b[0;31mAttributeError\u001b[0m: 'NoneType' object has no attribute 'model_dump'"
     ]
    }
   ],
   "source": [
    "%%time\n",
    "\n",
    "# let's try the ACEA 2025-Feb PDF\n",
    "# ... can the model see that there are no values for Romania for PLUG-IN HYBRID???\n",
    "tidy_data = extract_structured_data('samples/Press_release_car_registrations_February_2025.pdf', ACEATidyData)\n",
    "\n",
    "acea_202502_df = pd.DataFrame(tidy_data.model_dump()['data'])"
   ]
  },
  {
   "cell_type": "code",
   "execution_count": 31,
   "id": "597f9866-2b7c-48a3-95a2-eeb94e3451c1",
   "metadata": {},
   "outputs": [
    {
     "ename": "NameError",
     "evalue": "name 'acea_202502_df' is not defined",
     "output_type": "error",
     "traceback": [
      "\u001b[0;31m---------------------------------------------------------------------------\u001b[0m",
      "\u001b[0;31mNameError\u001b[0m                                 Traceback (most recent call last)",
      "Cell \u001b[0;32mIn[31], line 2\u001b[0m\n\u001b[1;32m      1\u001b[0m \u001b[38;5;66;03m# we expect ?? values in the tidy data \u001b[39;00m\n\u001b[0;32m----> 2\u001b[0m \u001b[38;5;28mprint\u001b[39m(\u001b[43macea_202502_df\u001b[49m\u001b[38;5;241m.\u001b[39mshape)\n",
      "\u001b[0;31mNameError\u001b[0m: name 'acea_202502_df' is not defined"
     ]
    }
   ],
   "source": [
    "# we expect ?? values in the tidy data \n",
    "print(acea_202502_df.shape)\n"
   ]
  },
  {
   "cell_type": "code",
   "execution_count": 32,
   "id": "fe78f50d-c8c8-4464-bad9-593a0671fe62",
   "metadata": {},
   "outputs": [],
   "source": [
    "tidy_data"
   ]
  },
  {
   "cell_type": "code",
   "execution_count": null,
   "id": "c4255092-c01e-4846-8f2a-c0ef40e2ef89",
   "metadata": {},
   "outputs": [],
   "source": [
    "\n",
    " \n"
   ]
  },
  {
   "cell_type": "code",
   "execution_count": null,
   "id": "f66b642b-139a-4470-b920-2abce23fb566",
   "metadata": {},
   "outputs": [],
   "source": []
  },
  {
   "cell_type": "code",
   "execution_count": null,
   "id": "70aa172f-52aa-46a3-ba99-caf78bae153a",
   "metadata": {},
   "outputs": [],
   "source": []
  },
  {
   "cell_type": "markdown",
   "id": "ecd222ae-c1ea-4c79-b4a7-83f2b1ab7a08",
   "metadata": {},
   "source": [
    "----"
   ]
  },
  {
   "cell_type": "code",
   "execution_count": null,
   "id": "7e9f0923-e8c1-43bd-bf57-bfef77a3e0c5",
   "metadata": {},
   "outputs": [],
   "source": []
  },
  {
   "cell_type": "markdown",
   "id": "ccb7e32c-2e33-4e37-9f27-791b92a95267",
   "metadata": {},
   "source": [
    "## 4. Extract Structured data from PDFs using Gemini 2.0\n",
    "\n",
    "Now, let's combine the File API and structured output to extract information from our PDFs. You can create a simple method that accepts a local file path and a pydantic model and return the structured data for us. The method will:\n",
    "\n",
    "1. Upload the file to the File API\n",
    "2. Generate a structured response using the Gemini API\n",
    "3. Convert the response to the pydantic model and return it"
   ]
  },
  {
   "cell_type": "raw",
   "id": "a69beacc-2c38-43b5-9375-9e77d35eea69",
   "metadata": {},
   "source": [
    "def extract_structured_data(file_path: str, model: BaseModel):\n",
    "    \n",
    "    # Upload the file to the File API\n",
    "    file = client.files.upload(\n",
    "        file=file_path, \n",
    "        config={\n",
    "            'display_name': file_path.split('/')[-1].split('.')[0]\n",
    "    })\n",
    "    \n",
    "    # Generate a structured response using the Gemini API\n",
    "    prompt = f\"Extract the table from the following PDF file\"\n",
    "    response = client.models.generate_content(\n",
    "        model=model_id, \n",
    "        contents=[prompt, file], \n",
    "        config={\n",
    "            'response_mime_type': 'application/json', \n",
    "            'response_schema': model\n",
    "    })\n",
    "    \n",
    "    # Convert the response to the pydantic model and return it\n",
    "    return response.parsed"
   ]
  },
  {
   "cell_type": "code",
   "execution_count": null,
   "id": "357a936b-af6d-4602-ba4b-5ece15c07861",
   "metadata": {},
   "outputs": [],
   "source": [
    "from pydantic import BaseModel, Field\n",
    "\n",
    "class Datum(BaseModel):\n",
    "    cat1: str = Field(description=\"This field has a value that is either 全店売上 or 既存店売上\")\n",
    "    cat2: str = Field(description=\"This field is always 昨年対比\")\n",
    "    cat3: str = Field(description=\"This field is the yyyy value for the 年度 column\")\n",
    "    cat4: str = Field(description=\"This field is takes one of 14 values: 4月, 5月, 6月, 7月, 8月, 9月, 上半期, 10月, 11月, 12月, 1月, 2月, 3月, 通期\")\n",
    "    value: str = Field(description=\"This field holds the table cell value, which is a floating point number with exactly one decimal place, or it is a whitespace indicating a blank value\")\n",
    "\n",
    "class TidyData(BaseModel):\n",
    "    name: str = Field(description=\"This field is always 月次売上情報\")\n",
    "    data: list[Datum] = Field(description=\"The list of Datum with cat1, cat2, cat3, cat4, cat5, and value fields\")"
   ]
  },
  {
   "cell_type": "code",
   "execution_count": null,
   "id": "fb079b40-ce84-423e-bd76-9ed64fa9d6ac",
   "metadata": {},
   "outputs": [],
   "source": [
    "%%time\n",
    "\n",
    "# let's try the Saint-marc HD 20250213 PDF: this is the well-structured table\n",
    "# ... text \n",
    "prompt = f\"Extract the table from the following PDF file, in TidyData format\"\n",
    "\n",
    "response = client.models.generate_content(\n",
    "    model=model_id, \n",
    "    contents=[prompt, saintmarc_hd_20250213], \n",
    "    config={'response_mime_type': 'application/json', 'response_schema': TidyData}\n",
    ")\n",
    "\n",
    "tidy_data = response.parsed\n",
    "\n",
    "smhd_202502_df = pd.DataFrame(tidy_data.model_dump()['data'])\n",
    "# we expect 84 - 6 = 78 values in the tidy data\n",
    "print(smhd_202502_df.shape)"
   ]
  },
  {
   "cell_type": "markdown",
   "id": "21a1b6d5-ea5f-4621-a0d5-29acca41cfc0",
   "metadata": {},
   "source": [
    "----"
   ]
  },
  {
   "cell_type": "code",
   "execution_count": null,
   "id": "9bfca0d3-01b5-48c2-9fa5-f8d7fb145be5",
   "metadata": {},
   "outputs": [],
   "source": [
    "%%time\n",
    "\n",
    "# let's try the Saint-marc HD 20250313 PDF: this is the borked table (?)\n",
    "# ... image file\n",
    "prompt = f\"Extract the table from the following PDF file, in TidyData format\"\n",
    "\n",
    "response = client.models.generate_content(\n",
    "    model=model_id, \n",
    "    contents=[prompt, saintmarc_hd_20250313], \n",
    "    config={'response_mime_type': 'application/json', 'response_schema': TidyData}\n",
    ")\n",
    "\n",
    "tidy_data = response.parsed\n",
    "\n",
    "smhd_202503_df = pd.DataFrame(tidy_data.model_dump()['data'])\n",
    "# we expect 84 - 4 = 80 values in the tidy data\n",
    "print(smhd_202503_df.shape)"
   ]
  },
  {
   "cell_type": "markdown",
   "id": "08f7e2e7-2e6a-4148-9802-fd25d0c55a00",
   "metadata": {},
   "source": [
    "----"
   ]
  },
  {
   "cell_type": "code",
   "execution_count": null,
   "id": "313e7944-9be0-40fc-afa9-a548d54b61e3",
   "metadata": {},
   "outputs": [],
   "source": []
  },
  {
   "cell_type": "code",
   "execution_count": null,
   "id": "46689cfe-4226-4568-b9cd-0fc08076eb70",
   "metadata": {},
   "outputs": [],
   "source": [
    "%%time\n",
    "\n",
    "# Lastly we try that ACEA February PDF... \n",
    "# ... keep an eye out on the 3 \"missing\" Plug-in Hybrid values in the Romania data\n",
    "prompt = f\"Extract the table from the following PDF file, in TidyData format\"\n",
    "\n",
    "response = client.models.generate_content(\n",
    "    model=model_id, \n",
    "    contents=[prompt, saintmarc_hd_20250313], \n",
    "    config={'response_mime_type': 'application/json', 'response_schema': TidyData}\n",
    ")\n",
    "\n",
    "tidy_data = response.parsed\n",
    "\n",
    "smhd_202503_df = pd.DataFrame(tidy_data.model_dump()['data'])\n",
    "# we expect 84 - 4 = 80 values in the tidy data\n",
    "print(smhd_202503_df.shape)"
   ]
  }
 ],
 "metadata": {
  "kernelspec": {
   "display_name": "Python 3 (ipykernel)",
   "language": "python",
   "name": "python3"
  },
  "language_info": {
   "codemirror_mode": {
    "name": "ipython",
    "version": 3
   },
   "file_extension": ".py",
   "mimetype": "text/x-python",
   "name": "python",
   "nbconvert_exporter": "python",
   "pygments_lexer": "ipython3",
   "version": "3.10.16"
  }
 },
 "nbformat": 4,
 "nbformat_minor": 5
}
