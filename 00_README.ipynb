{
 "cells": [
  {
   "cell_type": "markdown",
   "id": "9c2acf2a-5db7-46bd-af87-ef543e136ae1",
   "metadata": {},
   "source": [
    "# README\n",
    "\n",
    "_... before going any further ..._"
   ]
  },
  {
   "cell_type": "code",
   "execution_count": 2,
   "id": "c6b24171-08f5-458a-9a9b-4a9cbb71fee4",
   "metadata": {},
   "outputs": [
    {
     "name": "stdout",
     "output_type": "stream",
     "text": [
      "total 284\n",
      "drwxr-xr-x 2 so_olliphant so_olliphant   4096 Mar 29 02:42 .\n",
      "drwxr-xr-x 6 so_olliphant so_olliphant   4096 Mar 29 08:24 ..\n",
      "-rw-r--r-- 1 so_olliphant so_olliphant 186261 Mar 29 01:59 Press_release_car_registrations_February_2025.pdf\n",
      "-rw-r--r-- 1 so_olliphant so_olliphant  38429 Feb 13 06:53 saintmarc-hd_20250213.pdf\n",
      "-rw-r--r-- 1 so_olliphant so_olliphant  52238 Mar 29 02:00 saintmarc-hd_20250313.pdf\n"
     ]
    }
   ],
   "source": [
    "!ls -la samples"
   ]
  },
  {
   "cell_type": "markdown",
   "id": "68c3bbce-7da5-446b-9bb4-eae1527a84d3",
   "metadata": {},
   "source": [
    "----"
   ]
  },
  {
   "cell_type": "code",
   "execution_count": 1,
   "id": "d9ebdd8c-76b5-4df3-91b2-68f7078271c7",
   "metadata": {},
   "outputs": [
    {
     "name": "stdout",
     "output_type": "stream",
     "text": [
      "openjdk version \"17.0.14\" 2025-01-21\n",
      "OpenJDK Runtime Environment Temurin-17.0.14+7 (build 17.0.14+7)\n",
      "OpenJDK 64-Bit Server VM Temurin-17.0.14+7 (build 17.0.14+7, mixed mode, sharing)\n"
     ]
    }
   ],
   "source": [
    "!java -version"
   ]
  },
  {
   "cell_type": "code",
   "execution_count": 3,
   "id": "56845e52-fc0b-4062-b22b-81e6214f27d4",
   "metadata": {},
   "outputs": [
    {
     "name": "stdout",
     "output_type": "stream",
     "text": [
      "total 54916\n",
      "drwxr-xr-x 2 so_olliphant so_olliphant     4096 Mar 29 02:19 .\n",
      "drwxr-xr-x 6 so_olliphant so_olliphant     4096 Mar 29 08:24 ..\n",
      "-rw-r--r-- 1 so_olliphant so_olliphant 56217850 Mar 29 02:19 tika-app-3.1.0.jar\n"
     ]
    }
   ],
   "source": [
    "!ls -la jars"
   ]
  },
  {
   "cell_type": "code",
   "execution_count": null,
   "id": "df7d7c4f-12f6-4c85-9961-5aa6c566c7d4",
   "metadata": {},
   "outputs": [],
   "source": []
  }
 ],
 "metadata": {
  "kernelspec": {
   "display_name": "Python 3 (ipykernel)",
   "language": "python",
   "name": "python3"
  },
  "language_info": {
   "codemirror_mode": {
    "name": "ipython",
    "version": 3
   },
   "file_extension": ".py",
   "mimetype": "text/x-python",
   "name": "python",
   "nbconvert_exporter": "python",
   "pygments_lexer": "ipython3",
   "version": "3.10.16"
  }
 },
 "nbformat": 4,
 "nbformat_minor": 5
}
