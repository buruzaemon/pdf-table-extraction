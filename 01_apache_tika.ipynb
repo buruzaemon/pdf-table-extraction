{
 "cells": [
  {
   "cell_type": "markdown",
   "id": "37b52de2-7e83-4ea6-942e-dc8aff25e2c9",
   "metadata": {},
   "source": [
    "# Extracting table contents with Apache Tika"
   ]
  },
  {
   "cell_type": "markdown",
   "id": "6368c481-505b-4173-9f66-252d171bf5b9",
   "metadata": {},
   "source": [
    "#### [Apache Tika](https://tika.apache.org/) is a Java-based content analysis toolkit.\n",
    "\n",
    "> The Apache Tika toolkit detects and extracts metadata and text from over a thousand different file types (such as PPT, XLS, and PDF). All of these file types can be parsed through a single interface, making Tika useful for search engine indexing, content analysis, translation, and much more.\n",
    "\n",
    "Tika is an executable application executed as a Java jar file.\n",
    "\n",
    "We can call Tika from the command-line directly via [`subprocess`](https://docs.python.org/3/whatsnew/3.13.html#subprocess) in Python, capturing and parsing the output from `stdout` and `stderr`.\n",
    "\n",
    "The arguments to Tika we show here are:\n",
    "* `m`: print file metadata\n",
    "* `t`: print contents of file as plaintext\n",
    "* `J`: print both metadata and contents of the file\n",
    "\n",
    "Regular expressions can be used to parse / post-process the output from the Tika executable."
   ]
  },
  {
   "cell_type": "raw",
   "id": "bd54017d-a92b-498f-9f5b-85455f06d4c2",
   "metadata": {},
   "source": [
    "!java --version"
   ]
  },
  {
   "cell_type": "code",
   "execution_count": 1,
   "id": "2fb8514d-f941-4071-bc50-35d370eb7847",
   "metadata": {},
   "outputs": [
    {
     "name": "stdout",
     "output_type": "stream",
     "text": [
      "total 996\n",
      "drwxr-xr-x 2 so_olliphant so_olliphant   4096 Apr  1 01:24 .\n",
      "drwxr-xr-x 6 so_olliphant so_olliphant   4096 Apr  2 05:50 ..\n",
      "-rw-r--r-- 1 so_olliphant so_olliphant 186261 Mar 29 01:59 Press_release_car_registrations_February_2025.pdf\n",
      "-rw-r--r-- 1 so_olliphant so_olliphant 591185 Apr  1 01:24 Press_release_car_registrations_February_2025.pdf.png\n",
      "-rw-r--r-- 1 so_olliphant so_olliphant  38429 Feb 13 06:53 saintmarc-hd_20250213.pdf\n",
      "-rw-r--r-- 1 so_olliphant so_olliphant  78716 Apr  1 00:36 saintmarc-hd_20250213.pdf.png\n",
      "-rw-r--r-- 1 so_olliphant so_olliphant  52238 Mar 29 02:00 saintmarc-hd_20250313.pdf\n",
      "-rw-r--r-- 1 so_olliphant so_olliphant  53209 Apr  1 00:45 saintmarc-hd_20250313.pdf.png\n"
     ]
    }
   ],
   "source": [
    "!ls -la samples"
   ]
  },
  {
   "cell_type": "markdown",
   "id": "4ea4bf8c-1f73-4633-8a19-03ea3133582f",
   "metadata": {},
   "source": [
    "----"
   ]
  },
  {
   "cell_type": "code",
   "execution_count": 2,
   "id": "46921be6-b0af-4bc8-8d3b-ee49e42524e4",
   "metadata": {},
   "outputs": [],
   "source": [
    "import subprocess"
   ]
  },
  {
   "cell_type": "markdown",
   "id": "c1f62601-7856-4301-95cd-443a289690a4",
   "metadata": {},
   "source": [
    "### Saint-marc HD PDF for 2025-Jan 月次売上情報\n",
    "\n",
    "![Saint-marc HD PDF for 2025-Jan 月次売上情報](samples/saintmarc-hd_20250213.pdf.png \"Saint-marc HD PDF for 2025-Jan 月次売上情報\")\n",
    "\n",
    "* Text in this PDF is 512 chars.\n",
    "* Note that Tika only extracts the PDF text; all document formatting is generally lost."
   ]
  },
  {
   "cell_type": "code",
   "execution_count": 3,
   "id": "f74db294-1a0d-4f0a-9523-84ce5d08d601",
   "metadata": {},
   "outputs": [
    {
     "name": "stdout",
     "output_type": "stream",
     "text": [
      "Saint-marc HD PDF for 2025-Feb\n",
      "\n",
      "Content-Length: 38429\n",
      "Content-Type: application/pdf\n",
      "X-TIKA:Parsed-By: org.apache.tika.parser.DefaultParser\n",
      "X-TIKA:Parsed-By: org.apache.tika.parser.pdf.PDFParser\n",
      "X-TIKA:versionCount: 0\n",
      "access_permission:assemble_document: true\n",
      "access_permission:can_modify: true\n",
      "access_permission:can_print: true\n",
      "access_permission:can_print_faithful: true\n",
      "access_permission:extract_content: true\n",
      "access_permission:extract_for_accessibility: true\n",
      "access_permission:fill_in_form: true\n",
      "access_permission:modify_annotations: true\n",
      "dc:creator: ãâ ä\n",
      "dc:format: application/pdf; version=1.7\n",
      "dc:title:!ò\n",
      "ÅHP(\t.xlsx\n",
      "dcterms:created: 2025-02-01T01:02:28Z\n",
      "dcterms:modified: 2025-02-01T01:02:28Z\n",
      "pdf:PDFVersion: 1.7\n",
      "pdf:charsPerPage: 512\n",
      "pdf:docinfo:created: 2025-02-01T01:02:28Z\n",
      "pdf:docinfo:creator: ãâ ä\n",
      "pdf:docinfo:modified: 2025-02-01T01:02:28Z\n",
      "pdf:docinfo:producer: Microsoft: Print To PDF\n",
      "pdf:docinfo:title:!ò\n",
      "ÅHP(\t.xlsx\n",
      "pdf:encrypted: false\n",
      "pdf:eofOffsets: 38429\n",
      "pdf:hasCollection: false\n",
      "pdf:hasMarkedContent: false\n",
      "pdf:hasXFA: false\n",
      "pdf:hasXMP: false\n",
      "pdf:incrementalUpdateCount: 0\n",
      "pdf:producer: Microsoft: Print To PDF\n",
      "pdf:unmappedUnicodeCharsPerPage: 0\n",
      "resourceName: saintmarc-hd_20250213.pdf\n",
      "xmpTPg:NPages: 1\n",
      "\n"
     ]
    }
   ],
   "source": [
    "# how about the metadata/text of the PDF from 2025-Feb?\n",
    "args = [\n",
    "    'java',\n",
    "    '-jar',\n",
    "    'jars/tika-app-3.1.0.jar',\n",
    "    '-m',\n",
    "    'samples/saintmarc-hd_20250213.pdf'\n",
    "]\n",
    "result = subprocess.run(args, capture_output=True, text=True)\n",
    "\n",
    "print(\"Saint-marc HD PDF for 2025-Feb\\n\")\n",
    "print(result.stdout)\n",
    "#print(result.stderr)"
   ]
  },
  {
   "cell_type": "markdown",
   "id": "18c55812-f21e-410c-aacb-cf79c27c6519",
   "metadata": {},
   "source": []
  },
  {
   "cell_type": "markdown",
   "id": "1d516996-7ada-477b-8b5a-2e435e0758ab",
   "metadata": {},
   "source": [
    "### Saint-marc HD PDF for 2025-Feb 月次売上情報\n",
    "\n",
    "![Saint-marc HD PDF for 2025-Feb 月次売上情報](samples/saintmarc-hd_20250313.pdf.png \"Saint-marc HD PDF for 2025-Feb 月次売上情報\")\n",
    "\n",
    "* <span style=\"background-color:#aaffff;\">_Text in this PDF is 0 chars!_</span>\n",
    "* This PDF is actually created from an image file, so Tika is not able to return any text."
   ]
  },
  {
   "cell_type": "code",
   "execution_count": 4,
   "id": "0cd5ab31-3b02-49a5-9039-48d67dba35ff",
   "metadata": {},
   "outputs": [
    {
     "name": "stdout",
     "output_type": "stream",
     "text": [
      "Saint-marc HD PDF for 2025-Mar\n",
      "\n",
      "Content-Length: 52238\n",
      "Content-Type: application/pdf\n",
      "X-TIKA:Parsed-By: org.apache.tika.parser.DefaultParser\n",
      "X-TIKA:Parsed-By: org.apache.tika.parser.pdf.PDFParser\n",
      "X-TIKA:versionCount: 0\n",
      "access_permission:assemble_document: true\n",
      "access_permission:can_modify: true\n",
      "access_permission:can_print: true\n",
      "access_permission:can_print_faithful: true\n",
      "access_permission:extract_content: true\n",
      "access_permission:extract_for_accessibility: true\n",
      "access_permission:fill_in_form: true\n",
      "access_permission:modify_annotations: true\n",
      "dc:format: application/pdf; version=1.7\n",
      "pdf:PDFVersion: 1.7\n",
      "pdf:charsPerPage: 0\n",
      "pdf:encrypted: false\n",
      "pdf:eofOffsets: 52238\n",
      "pdf:hasCollection: false\n",
      "pdf:hasMarkedContent: false\n",
      "pdf:hasXFA: false\n",
      "pdf:hasXMP: false\n",
      "pdf:incrementalUpdateCount: 0\n",
      "pdf:unmappedUnicodeCharsPerPage: 0\n",
      "resourceName: saintmarc-hd_20250313.pdf\n",
      "xmpTPg:NPages: 1\n",
      "\n"
     ]
    }
   ],
   "source": [
    "# OK, now how about the metadata/text of the PDF from 2025-Mar?\n",
    "args = [\n",
    "    'java',\n",
    "    '-jar',\n",
    "    'jars/tika-app-3.1.0.jar',\n",
    "    '-m',\n",
    "    'samples/saintmarc-hd_20250313.pdf'\n",
    "]\n",
    "result = subprocess.run(args, capture_output=True, text=True)\n",
    "\n",
    "print(\"Saint-marc HD PDF for 2025-Mar\\n\")\n",
    "print(result.stdout)\n",
    "#print(result.stderr)"
   ]
  },
  {
   "cell_type": "markdown",
   "id": "59a900c9-a4f1-4f14-8393-ed3f1172292d",
   "metadata": {},
   "source": [
    "----"
   ]
  },
  {
   "cell_type": "markdown",
   "id": "d2b80b2b-0f2a-435d-84d4-45a90238b14d",
   "metadata": {},
   "source": [
    "### ACEA Press Release, 2025-Feb\n",
    "\n",
    "![ACEA Press Release, 2025-Feb](samples/Press_release_car_registrations_February_2025.pdf.png \"ACEA Press Release, 2025-Feb\")\n",
    "\n",
    "* In the table on page 3, in the row for the Romania data, notice that <span style=\"background-color:#aaffff;\">_the 3 blank values for Plug-in Hybrid are completely and absolutely missing from the Tika-parsed content!_</span>\n",
    "* We output both the metadata and contents as plain text, splitting on `\\n\\n\\n\\n` page delimiters."
   ]
  },
  {
   "cell_type": "code",
   "execution_count": 5,
   "id": "cb2e5cdd-270b-4abe-85d5-6c2fd3bcd98e",
   "metadata": {},
   "outputs": [],
   "source": [
    "# Multi-page PDF from ACEA, target table on page 3\n",
    "args = [\n",
    "    'java',\n",
    "    '-jar',\n",
    "    'jars/tika-app-3.1.0.jar',\n",
    "    '-t',\n",
    "    '-J',\n",
    "    'samples/Press_release_car_registrations_February_2025.pdf'\n",
    "]\n",
    "result = subprocess.run(args, capture_output=True, text=True)\n",
    "\n",
    "#print(\"ACEA PDF for 2025-Feb\\n\")\n",
    "#print(result.stdout)\n",
    "#print(result.stderr)"
   ]
  },
  {
   "cell_type": "code",
   "execution_count": 6,
   "id": "aecdefbd-4f24-4a3e-bd7f-47d7cae58c4d",
   "metadata": {},
   "outputs": [
    {
     "name": "stdout",
     "output_type": "stream",
     "text": [
      " \n",
      "\n",
      "www.acea.auto         Page 3 of 6 \n",
      " \n",
      "\n",
      " \n",
      "\n",
      "NEW CAR REGISTRATIONS BY MARKET AND POWER SOURCE  \n",
      "\n",
      "MONTHLY2 \n",
      "\n",
      " \n",
      " \n",
      "\n",
      " \n",
      " \n",
      "1 Includes full and mild hybrids \n",
      "2 Includes fuel-cell electric vehicles, natural gas vehicles, LPG, E85/ethanol, and other fuels \n",
      "\n",
      "February February % change February February % change February February % change February February % change February February % change February February % change February February % change\n",
      "\n",
      "2025 2024 25/24 2025 2024 25/24 2025 2024 25/24 2025 2024 25/24 2025 2024 25/24 2025 2024 25/24 2025 2024 25/24\n",
      "\n",
      "Austria 4,233 3,322 +27.4 1,613 1,335 +20.8 5,549 4,691 +18.3 0 0 5,736 6,527 -12.1 2,488 4,135 -39.8 19,619 20,010 -2.0\n",
      "\n",
      "Belgium 13,040 9,385 +38.9 3,070 8,385 -63.4 5,383 4,282 +25.7 267 415 -35.7 17,280 18,918 -8.7 1,121 2,337 -52.0 40,161 43,722 -8.1\n",
      "\n",
      "Bulgaria 126 122 +3.3 34 31 +9.7 105 73 +43.8 0 0 2,781 2,868 -3.0 348 510 -31.8 3,394 3,604 -5.8\n",
      "\n",
      "Croatia 53 50 +6.0 140 94 +48.9 1,629 1,455 +12.0 101 110 -8.2 1,644 1,898 -13.4 678 923 -26.5 4,245 4,530 -6.3\n",
      "\n",
      "Cyprus 107 105 +1.9 78 48 +62.5 579 609 -4.9 0 0 456 712 -36.0 64 27 +137.0 1,284 1,501 -14.5\n",
      "\n",
      "Czechia 737 438 +68.3 557 450 +23.8 3,634 3,577 +1.6 470 579 -18.8 8,844 9,723 -9.0 3,531 3,561 -0.8 17,773 18,328 -3.0\n",
      "\n",
      "Denmark 7,724 4,974 +55.3 312 525 -40.6 1,453 1,941 -25.1 0 0 1,908 3,415 -44.1 220 363 -39.4 11,617 11,218 +3.6\n",
      "\n",
      "Estonia 59 89 -33.7 69 59 +16.9 307 609 -49.6 0 9 -100.0 132 430 -69.3 57 244 -76.6 624 1,440 -56.7\n",
      "\n",
      "Finland 1,563 1,330 +17.5 1,035 1,237 -16.3 1,398 1,735 -19.4 0 39 -100.0 598 736 -18.8 190 297 -36.0 4,784 5,374 -11.0\n",
      "\n",
      "France 25,335 25,825 -1.9 6,451 11,732 -45.0 62,146 41,227 +50.7 5,821 5,495 +5.9 35,110 48,095 -27.0 6,707 10,221 -34.4 141,570 142,595 -0.7\n",
      "\n",
      "Germany 35,949 27,479 +30.8 19,534 14,575 +34.0 58,153 54,792 +6.1 771 1,283 -39.9 56,911 77,106 -26.2 32,116 42,153 -23.8 203,434 217,388 -6.4\n",
      "\n",
      "Greece 718 581 +23.6 610 525 +16.2 5,002 4,445 +12.5 136 148 -8.1 3,116 4,472 -30.3 236 1,280 -81.6 9,818 11,451 -14.3\n",
      "\n",
      "Hungary 690 741 -6.9 385 545 -29.4 5,589 5,058 +10.5 42 7 +500.0 2,428 3,280 -26.0 1,441 1,110 +29.8 10,575 10,741 -1.5\n",
      "\n",
      "Ireland 2,512 1,856 +35.3 2,100 1,420 +47.9 3,137 2,940 +6.7 0 0 3,776 5,671 -33.4 2,444 4,545 -46.2 13,969 16,432 -15.0\n",
      "\n",
      "Italy 6,922 5,007 +38.2 6,131 4,598 +33.3 61,196 55,537 +10.2 13,690 14,595 -6.2 36,404 45,966 -20.8 13,677 21,499 -36.4 138,020 147,202 -6.2\n",
      "\n",
      "Latvia 80 78 +2.6 134 28 +378.6 0 0 18 36 -50.0 885 794 +11.5 281 282 -0.4 1,398 1,218 +14.8\n",
      "\n",
      "Lithuania 101 108 -6.5 209 103 +102.9 1,284 954 +34.6 28 39 -28.2 415 606 -31.5 494 204 +142.2 2,531 2,014 +25.7\n",
      "\n",
      "Luxembourg 1,134 942 +20.4 291 385 -24.4 1,196 1,002 +19.4 0 0 1,054 1,377 -23.5 436 581 -25.0 4,111 4,287 -4.1\n",
      "\n",
      "Malta 46 260 -82.3 27 58 -53.4 98 124 -21.0 0 0 118 199 -40.7 14 16 -12.5 303 657 -53.9\n",
      "\n",
      "Netherlands 10,174 8,315 +22.4 4,376 4,304 +1.7 8,122 9,007 -9.8 48 245 -80.4 4,781 8,197 -41.7 319 264 +20.8 27,820 30,332 -8.3\n",
      "\n",
      "Poland 1,675 1,370 +22.3 1,887 1,301 +45.0 23,470 21,506 +9.1 1,095 1,273 -14.0 13,390 17,014 -21.3 3,278 3,509 -6.6 44,795 45,973 -2.6\n",
      "\n",
      "Portugal 3,946 3,191 +23.7 2,093 2,394 -12.6 4,974 2,821 +76.3 1,702 1,542 +10.4 5,751 9,041 -36.4 997 1,523 -34.5 19,463 20,512 -5.1\n",
      "\n",
      "Romania 724 1,109 -34.7 5,510 3,736 +47.5 1,354 953 +42.1 3,007 3,729 -19.4 1,255 1,812 -30.7 11,850 11,339 +4.5\n",
      "\n",
      "Slovakia 276 190 +45.3 240 167 +43.7 1,992 2,313 -13.9 143 139 +2.9 2,526 3,692 -31.6 1,028 1,201 -14.4 6,205 7,702 -19.4\n",
      "\n",
      "Slovenia 367 278 +32.0 187 104 +79.8 416 472 -11.9 52 33 +57.6 2,539 2,591 -2.0 811 670 +21.0 4,372 4,148 +5.4\n",
      "\n",
      "Spain 6,112 3,806 +60.6 6,901 5,562 +24.1 39,798 28,631 +39.0 4,380 2,417 +81.2 27,980 32,659 -14.3 5,156 8,275 -37.7 90,327 81,350 +11.0\n",
      "\n",
      "Sweden 6,872 5,215 +31.8 5,106 4,510 +13.2 1,942 1,906 +1.9 3 767 -99.6 4,503 4,788 -6.0 1,182 1,584 -25.4 19,608 18,770 +4.5\n",
      "\n",
      "EUROPEAN UNION 131,275 106,166 +23.7 63,570 64,475 -1.4 304,062 255,443 +19.0 30,121 30,124 -0.0 244,073 314,504 -22.4 80,569 113,126 -28.8 853,670 883,838 -3.4\n",
      "\n",
      "Iceland 248 97 +155.7 104 96 +8.3 199 95 +109.5 0 0 43 26 +65.4 61 83 -26.5 655 397 +65.0\n",
      "\n",
      "Norway 8,477 6,043 +40.3 136 122 +11.5 154 259 -40.5 0 0 37 64 -42.2 145 189 -23.3 8,949 6,677 +34.0\n",
      "\n",
      "Switzerland 3,402 3,295 +3.2 1,462 1,753 -16.6 6,000 5,780 +3.8 3 3 +0.0 4,071 5,959 -31.7 1,274 1,731 -26.4 16,212 18,521 -12.5\n",
      "\n",
      "EFTA 12,127 9,435 +28.5 1,702 1,971 -13.6 6,353 6,134 +3.6 3 3 +0.0 4,151 6,049 -31.4 1,480 2,003 -26.1 25,816 25,595 +0.9\n",
      "\n",
      "United Kingdom 21,244 14,991 +41.7 7,273 6,098 +19.3 29,849 26,140 +14.2 0 0 22,986 34,579 -33.5 2,702 3,078 -12.2 84,054 84,886 -1.0\n",
      "\n",
      "EU + EFTA + UK 164,646 130,592 +26.1 72,545 72,544 +0.0 340,264 287,717 +18.3 30,124 30,127 -0.0 271,210 355,132 -23.6 84,751 118,207 -28.3 963,540 994,319 -3.1\n",
      "\n",
      "TOTALPETROL DIESELPLUG-IN HYBRIDBATTERY ELECTRIC HYBRID ELECTRIC1 OTHERS2\n"
     ]
    }
   ],
   "source": [
    "import json\n",
    "\n",
    "o = json.loads(result.stdout)\n",
    "\n",
    "content = o[0]['X-TIKA:content']\n",
    "\n",
    "lines = content.strip().split('\\n\\n\\n\\n')\n",
    "print(lines[2])"
   ]
  },
  {
   "cell_type": "markdown",
   "id": "8394e1e8-e3a5-4619-8e2b-2154596190e4",
   "metadata": {},
   "source": [
    "----"
   ]
  },
  {
   "cell_type": "markdown",
   "id": "19a8893d-2243-49eb-b922-069ea1f87874",
   "metadata": {},
   "source": [
    "## Conclusion\n",
    "\n",
    "* Apache Tika is mostly useful, but requires clever post-processing (regular expressions, etc.).\n",
    "* However, as with the case with the Saint-marc HD PDF for 2025-Mar and the case for ACEA 2025-Feb, there are still many cases where Apache Tika is not enough."
   ]
  },
  {
   "cell_type": "code",
   "execution_count": null,
   "id": "c7ae5842-6254-4f73-a052-7023f82644db",
   "metadata": {},
   "outputs": [],
   "source": []
  }
 ],
 "metadata": {
  "kernelspec": {
   "display_name": "Python 3 (ipykernel)",
   "language": "python",
   "name": "python3"
  },
  "language_info": {
   "codemirror_mode": {
    "name": "ipython",
    "version": 3
   },
   "file_extension": ".py",
   "mimetype": "text/x-python",
   "name": "python",
   "nbconvert_exporter": "python",
   "pygments_lexer": "ipython3",
   "version": "3.10.16"
  }
 },
 "nbformat": 4,
 "nbformat_minor": 5
}
